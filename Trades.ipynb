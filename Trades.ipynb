{
 "cells": [
  {
   "cell_type": "code",
   "execution_count": 1,
   "metadata": {
    "collapsed": false
   },
   "outputs": [],
   "source": [
    "import graphlab"
   ]
  },
  {
   "cell_type": "code",
   "execution_count": 14,
   "metadata": {
    "collapsed": false
   },
   "outputs": [],
   "source": [
    "# Limit number of worker processes. This preserves system memory, which prevents hosted notebooks from crashing.\n",
    "graphlab.set_runtime_config('GRAPHLAB_DEFAULT_NUM_PYLAMBDA_WORKERS', 4)"
   ]
  },
  {
   "cell_type": "code",
   "execution_count": 17,
   "metadata": {
    "collapsed": false
   },
   "outputs": [
    {
     "data": {
      "text/html": [
       "<pre>Finished parsing file /Users/Quentin/Documents/Trade Project/MULTI_Historical trades.csv</pre>"
      ],
      "text/plain": [
       "Finished parsing file /Users/Quentin/Documents/Trade Project/MULTI_Historical trades.csv"
      ]
     },
     "metadata": {},
     "output_type": "display_data"
    },
    {
     "data": {
      "text/html": [
       "<pre>Parsing completed. Parsed 38 lines in 0.01211 secs.</pre>"
      ],
      "text/plain": [
       "Parsing completed. Parsed 38 lines in 0.01211 secs."
      ]
     },
     "metadata": {},
     "output_type": "display_data"
    },
    {
     "name": "stdout",
     "output_type": "stream",
     "text": [
      "------------------------------------------------------\n",
      "Inferred types from first 100 line(s) of file as \n",
      "column_type_hints=[str,str,str,float,int,str,float,int,int,int,int,int,float,int,int,str,float,float,int,float]\n",
      "If parsing fails due to incorrect types, you can correct\n",
      "the inferred type list above and pass it to read_csv in\n",
      "the column_type_hints argument\n",
      "------------------------------------------------------\n"
     ]
    },
    {
     "data": {
      "text/html": [
       "<pre>Finished parsing file /Users/Quentin/Documents/Trade Project/MULTI_Historical trades.csv</pre>"
      ],
      "text/plain": [
       "Finished parsing file /Users/Quentin/Documents/Trade Project/MULTI_Historical trades.csv"
      ]
     },
     "metadata": {},
     "output_type": "display_data"
    },
    {
     "data": {
      "text/html": [
       "<pre>Parsing completed. Parsed 38 lines in 0.015661 secs.</pre>"
      ],
      "text/plain": [
       "Parsing completed. Parsed 38 lines in 0.015661 secs."
      ]
     },
     "metadata": {},
     "output_type": "display_data"
    }
   ],
   "source": [
    "trades = graphlab.SFrame.read_csv('MULTI_Historical trades.csv', verbose=True)"
   ]
  },
  {
   "cell_type": "code",
   "execution_count": 18,
   "metadata": {
    "collapsed": false
   },
   "outputs": [
    {
     "name": "stdout",
     "output_type": "stream",
     "text": [
      "+--------+-------------------------------+-------------+--------------+---------------+\n",
      "| Ticker |              Name             | Date bought | Price bought | Amount Bought |\n",
      "+--------+-------------------------------+-------------+--------------+---------------+\n",
      "|  975   |        Mongolian Mining       |  11/5/2016  |     None     |     20000     |\n",
      "|  1538  |    Zhong Ao Home Group Ltd    |  11/27/2016 |     None     |     40000     |\n",
      "|  37B   |          B+C SPEAKERS         |  10/21/2013 |     None     |      3000     |\n",
      "|  AGX   |             Argan             |  7/19/2013  |    15.71     |      5000     |\n",
      "|  ANIK  |       Anika Therapeutics      |  9/18/2014  |    41.48     |     10000     |\n",
      "|  BBSI  |   Barrett Business Services   |  11/17/2014 |    32.03     |     30000     |\n",
      "|  BKS   |        Barnes & Nobles        |  5/24/2014  |    17.38     |     20000     |\n",
      "|  CAPC  |            Capstone           |   4/1/2017  |  0.5285643   |     45000     |\n",
      "|  CONN  |             CONN's            |  11/20/2016 |     11.6     |     30000     |\n",
      "|  ESI   |    ITT Educational Services   |  9/25/2014  |    4.269     |      1000     |\n",
      "|  FELP  |        Forsight Energy        |  9/18/2015  |  6.6670037   |     20000     |\n",
      "|  GOOG  |             Google            |  11/18/2014 |    537.5     |     10000     |\n",
      "|  GUD   |    Knight Therapeutics Inc    |  11/18/2014 |  6.1294189   |     10000     |\n",
      "|  HZN   |      Horizon Global Corp      |  1/23/2016  |     13.5     |     30000     |\n",
      "|  IBKR  |      Interactive Brokers      |  10/27/2014 |  26.0130418  |     30000     |\n",
      "|  IQNT  |          Inteliquent          |  3/30/2014  |    14.09     |      4600     |\n",
      "|  KSC   |             KPS AG            |  6/23/2014  |  7.2419981   |     15000     |\n",
      "|   LC   |          Lending Club         |  2/19/2015  |  18.9098336  |     25000     |\n",
      "|  LCI   |         Lannett Co Inc        |  12/26/2014 |    42.199    |     10000     |\n",
      "|  LEE   |         Lee Enterprise        |  4/25/2016  |  2.1140381   |     30000     |\n",
      "|  NHTC  |     Natural Health Trends     |   7/3/2014  |  6.9479332   |     20000     |\n",
      "|  NZM   |              NZME             |  1/24/2017  |     0.66     |      3000     |\n",
      "|  ONE   |          One Holdings         |  1/20/2015  |  2.3641659   |      5000     |\n",
      "|  PCP   |    Precision Castparts Corp   |  1/20/2015  |    205.89    |     10000     |\n",
      "|  PIH   | Pacific Insight Electronic... |   1/4/2017  |     11.2     |     30000     |\n",
      "|  PII   |            Polaris            |  8/27/2014  |    148.51    |     10000     |\n",
      "|  PTA   |          Petroamerica         |  11/6/2014  |     30.0     |     30000     |\n",
      "|  RMR   |           RMR Group           |  2/21/2016  |     25.0     |     30000     |\n",
      "|  RWWI  |         Rand Worldwide        |   2/3/2015  |     2.14     |     10000     |\n",
      "|  SAVE  |         Spirit Airline        |  1/29/2016  |     41.0     |     10000     |\n",
      "|  SBSA  | Spanish Broadcasting Syste... |  11/20/2016 |     4.15     |     15000     |\n",
      "|  SRG   |            Seritage           |  3/29/2016  |  50.8903046  |     20000     |\n",
      "|  TIBN  | Bergbahnen Engelberg-Trueb... |  7/20/2015  | 317.4023438  |     20000     |\n",
      "|  TPUB  |        Tribune Pushling       |  10/29/2014 |    19.68     |     10000     |\n",
      "|  VLS   |            Valsoia            |  5/12/2014  |  14.6222525  |     18000     |\n",
      "|  WIN   |           Windstream          |  6/21/2015  |  6.4443778   |     10000     |\n",
      "|  ZINC  |       Horsehead Holdings      |  10/9/2015  |  3.4335329   |     25000     |\n",
      "|  ZMTP  |        Zoom Telephonics       |  6/30/2016  |     2.9      |     30000     |\n",
      "+--------+-------------------------------+-------------+--------------+---------------+\n",
      "+------------+-------------+----------+-----+----+-----------+------------+------------+\n",
      "| Date sold  |  Price Sold | Spin-Off | VIC | MF | Valuation | Rev growth | Debt level |\n",
      "+------------+-------------+----------+-----+----+-----------+------------+------------+\n",
      "|  2/2/2017  |     None    |    0     |  1  | 0  |     2     |     0      |    4.1     |\n",
      "| 7/20/2017  |     None    |    0     |  1  | 0  |     7     |     0      |    0.0     |\n",
      "| 4/28/2014  |     None    |    0     |  0  | 0  |     7     |     7      |    0.0     |\n",
      "| 10/4/2016  |    58.73    |    0     |  1  | 1  |     9     |     6      |    0.0     |\n",
      "| 4/29/2015  |    36.25    |    0     |  0  | 0  |     0     |     0      |    0.0     |\n",
      "| 1/25/2017  |  62.0907835 |    0     |  1  | 1  |     0     |     7      |    0.1     |\n",
      "| 10/29/2014 |    20.84    |    0     |  0  | 0  |     8     |     0      |    0.0     |\n",
      "| 7/20/2017  |     0.58    |    0     |  0  | 0  |     8     |     8      |    0.3     |\n",
      "| 7/20/2017  |    22.55    |    0     |  1  | 0  |     5     |     0      |    2.2     |\n",
      "| 10/17/2014 |     9.95    |    0     |  0  | 0  |     8     |     0      |    2.14    |\n",
      "| 3/21/2016  |     1.35    |    0     |  1  | 0  |     5     |     0      |    10.0    |\n",
      "| 4/27/2015  | 532.9415884 |    0     |  0  | 0  |     3     |     8      |    0.0     |\n",
      "| 7/20/2017  |     9.72    |    0     |  1  | 0  |     1     |     1      |    0.0     |\n",
      "| 7/20/2017  |    14.47    |    1     |  1  | 0  |     6     |     0      |    2.1     |\n",
      "| 7/20/2017  |    37.21    |    0     |  1  | 0  |     3     |     3      |    0.0     |\n",
      "|  6/4/2014  |     15.3    |    0     |  0  | 1  |     7     |     0      |    0.0     |\n",
      "|  3/9/2015  |     6.93    |    0     |  0  | 0  |     5     |     0      |    0.0     |\n",
      "| 7/20/2017  |     5.2     |    0     |  1  | 0  |     1     |     8      |    4.2     |\n",
      "| 7/20/2015  |    60.17    |    0     |  0  | 1  |     7     |     8      |    1.7     |\n",
      "| 7/20/2017  |     1.9     |    0     |  1  | 0  |     9     |     0      |    4.8     |\n",
      "| 4/10/2105  |     15.0    |    0     |  0  | 1  |     8     |     8      |    0.0     |\n",
      "| 7/20/2017  |     0.98    |    0     |  1  | 0  |     7     |     0      |    0.4     |\n",
      "| 7/21/2015  |  2.5524505  |    0     |  0  | 1  |     8     |     0      |    0.35    |\n",
      "| 7/13/2015  |    192.6    |    0     |  0  | 0  |     4     |     0      |    0.42    |\n",
      "| 7/20/2017  |     10.5    |    0     |  1  | 0  |     6     |     8      |    0.0     |\n",
      "| 7/20/2017  |    92.45    |    0     |  0  | 0  |     2     |     6      |    1.4     |\n",
      "| 11/16/2015 |     9.0     |    0     |  0  | 1  |     7     |     0      |    1.0     |\n",
      "| 1/23/2017  |  42.9624378 |    1     |  1  | 1  |     6     |     0      |    0.0     |\n",
      "| 10/5/2015  |   2.154788  |    0     |  1  | 0  |     7     |     0      |    0.5     |\n",
      "| 2/14/2017  |     53.0    |    0     |  1  | 0  |     6     |     0      |    0.8     |\n",
      "| 7/20/2017  |     1.3     |    0     |  1  | 0  |     2     |     0      |    10.0    |\n",
      "| 10/10/2016 |    48.845   |    0     |  1  | 0  |     3     |     0      |    1.45    |\n",
      "|  6/8/2016  | 388.7734375 |    0     |  1  | 0  |     7     |     7      |    0.0     |\n",
      "|  2/1/2016  |  9.0292549  |    0     |  0  | 1  |     7     |     0      |    1.0     |\n",
      "| 11/6/2014  |  12.8192206 |    0     |  0  | 0  |     6     |     7      |    0.0     |\n",
      "| 9/18/2015  |    6.961    |    1     |  0  | 0  |     6     |     0      |    33.0    |\n",
      "| 12/1/2015  |     2.45    |    0     |  1  | 0  |     8     |     0      |    2.0     |\n",
      "| 7/20/2017  |     2.0     |    0     |  1  | 0  |     2     |     0      |    0.0     |\n",
      "+------------+-------------+----------+-----+----+-----------+------------+------------+\n",
      "+----------------+--------------+--------------------------------+------------+\n",
      "| Understandable | Researchable |            Industry            | Market Cap |\n",
      "+----------------+--------------+--------------------------------+------------+\n",
      "|       3        |      2       |           Commodity            |   1800.0   |\n",
      "|       7        |      4       |              REIT              |   658.0    |\n",
      "|       8        |      7       |          Electronics           |   130.0    |\n",
      "|       4        |      7       |   Engineering & Construction   |   994.0    |\n",
      "|       2        |      6       |         Biotechnology          |   705.0    |\n",
      "|       9        |      7       | Staffing & Outsourcing Ser...  |   413.0    |\n",
      "|       6        |      7       |        Specialty Retail        |   540.0    |\n",
      "|       7        |      7       |     Electronic Components      |    27.0    |\n",
      "|       4        |      6       |        Specialty Retail        |   350.0    |\n",
      "|       5        |      6       |           Education            |   400.0    |\n",
      "|       5        |      6       |           Commodity            |   638.0    |\n",
      "|       8        |      8       | Internet Content & Information |  300000.0  |\n",
      "|       3        |      6       |        Pharmaceuticals         |   700.0    |\n",
      "|       7        |      7       |    Industrial Distribution     |   300.0    |\n",
      "|       8        |      8       |        Capital Markets         |  15000.0   |\n",
      "|       3        |      5       |         Communications         |   800.0    |\n",
      "|       5        |      1       |       Business Services        |   500.0    |\n",
      "|       7        |      7       |        Credit Services         |  10000.0   |\n",
      "|       4        |      7       | Drug Manufacturers - Speci...  |   806.0    |\n",
      "|       7        |      7       |           Newspapers           |   100.0    |\n",
      "|       6        |      4       | Household & Personal Products  |    50.0    |\n",
      "|       6        |      5       |           Newspapers           |   150.0    |\n",
      "|       6        |      5       |           Education            |   260.0    |\n",
      "|       4        |      5       |           Industrial           |  37000.0   |\n",
      "|       6        |      7       |         Auto Supplier          |    70.0    |\n",
      "|       7        |      7       |     Recreational Vehicles      |   9000.0   |\n",
      "|       3        |      5       |           Commodity            |   100.0    |\n",
      "|       6        |      7       |      Real Estate Services      |   700.0    |\n",
      "|       4        |      6       |     Software - Application     |    60.0    |\n",
      "|       6        |      7       |            Airlines            |   3000.0   |\n",
      "|       6        |      6       |             Radio              |    50.0    |\n",
      "|       6        |      7       |              REIT              |   1700.0   |\n",
      "|       7        |      2       |              Ski               |   200.0    |\n",
      "|       7        |      7       |           Newspapers           |   400.0    |\n",
      "|       7        |      6       |              Food              |   200.0    |\n",
      "|       4        |      3       |              REIT              |   2000.0   |\n",
      "|       4        |      7       |           Commodity            |   200.0    |\n",
      "|       8        |      9       |          Electronics           |    30.0    |\n",
      "+----------------+--------------+--------------------------------+------------+\n",
      "+-------+---------------------------+-------+\n",
      "|  ROE  | Holding duration (months) |  P&L  |\n",
      "+-------+---------------------------+-------+\n",
      "|  -0.7 |             3             | -0.02 |\n",
      "| -0.01 |             8             | -0.38 |\n",
      "|  0.28 |             6             |  0.5  |\n",
      "|  0.28 |             39            |  2.74 |\n",
      "|  0.15 |             7             | -0.13 |\n",
      "|  0.27 |             26            |  0.94 |\n",
      "|  0.01 |             5             |  0.2  |\n",
      "|  0.8  |             4             |  0.1  |\n",
      "| -0.05 |             8             |  0.94 |\n",
      "|  0.18 |             1             |  1.33 |\n",
      "| -0.53 |             6             |  -0.8 |\n",
      "|  0.15 |             5             | -0.01 |\n",
      "|  0.03 |             32            |  0.59 |\n",
      "|  -0.6 |             18            |  0.07 |\n",
      "|  0.07 |             33            |  0.43 |\n",
      "|  0.7  |             2             |  0.09 |\n",
      "|  0.5  |             9             | -0.04 |\n",
      "| -0.18 |             29            | -0.73 |\n",
      "| -0.01 |             7             |  0.43 |\n",
      "|  0.0  |             15            |  -0.1 |\n",
      "|  0.78 |             9             |  1.16 |\n",
      "|  0.21 |             6             |  0.48 |\n",
      "|  0.11 |             6             |  0.08 |\n",
      "|  0.14 |             6             | -0.06 |\n",
      "|  0.37 |             7             | -0.06 |\n",
      "|  0.18 |             35            | -0.38 |\n",
      "|  0.0  |             12            |  -0.7 |\n",
      "|  0.35 |             11            |  0.72 |\n",
      "|  0.35 |             8             |  0.01 |\n",
      "|  0.17 |             13            |  0.29 |\n",
      "|  0.0  |             8             | -0.69 |\n",
      "| -0.06 |             6             | -0.04 |\n",
      "|  0.09 |             11            |  0.22 |\n",
      "|  0.0  |             15            | -0.54 |\n",
      "|  0.15 |             6             | -0.12 |\n",
      "|  0.09 |             3             |  0.08 |\n",
      "|  0.0  |             2             | -0.29 |\n",
      "|  0.0  |             13            | -0.31 |\n",
      "+-------+---------------------------+-------+\n",
      "[38 rows x 20 columns]\n",
      "\n"
     ]
    }
   ],
   "source": [
    "trades.print_rows(num_rows=50)"
   ]
  },
  {
   "cell_type": "code",
   "execution_count": 19,
   "metadata": {
    "collapsed": false
   },
   "outputs": [
    {
     "data": {
      "text/html": [
       "<div style=\"max-height:1000px;max-width:1500px;overflow:auto;\"><table frame=\"box\" rules=\"cols\">\n",
       "    <tr>\n",
       "        <th style=\"padding-left: 1em; padding-right: 1em; text-align: center\">Ticker</th>\n",
       "        <th style=\"padding-left: 1em; padding-right: 1em; text-align: center\">Name</th>\n",
       "        <th style=\"padding-left: 1em; padding-right: 1em; text-align: center\">Date bought</th>\n",
       "        <th style=\"padding-left: 1em; padding-right: 1em; text-align: center\">Price bought</th>\n",
       "        <th style=\"padding-left: 1em; padding-right: 1em; text-align: center\">Amount Bought</th>\n",
       "        <th style=\"padding-left: 1em; padding-right: 1em; text-align: center\">Date sold</th>\n",
       "        <th style=\"padding-left: 1em; padding-right: 1em; text-align: center\">Price Sold</th>\n",
       "        <th style=\"padding-left: 1em; padding-right: 1em; text-align: center\">Spin-Off</th>\n",
       "        <th style=\"padding-left: 1em; padding-right: 1em; text-align: center\">VIC</th>\n",
       "    </tr>\n",
       "    <tr>\n",
       "        <td style=\"padding-left: 1em; padding-right: 1em; text-align: center; vertical-align: top\">975</td>\n",
       "        <td style=\"padding-left: 1em; padding-right: 1em; text-align: center; vertical-align: top\">Mongolian Mining</td>\n",
       "        <td style=\"padding-left: 1em; padding-right: 1em; text-align: center; vertical-align: top\">11/5/2016</td>\n",
       "        <td style=\"padding-left: 1em; padding-right: 1em; text-align: center; vertical-align: top\">None</td>\n",
       "        <td style=\"padding-left: 1em; padding-right: 1em; text-align: center; vertical-align: top\">20000</td>\n",
       "        <td style=\"padding-left: 1em; padding-right: 1em; text-align: center; vertical-align: top\">2/2/2017</td>\n",
       "        <td style=\"padding-left: 1em; padding-right: 1em; text-align: center; vertical-align: top\">None</td>\n",
       "        <td style=\"padding-left: 1em; padding-right: 1em; text-align: center; vertical-align: top\">0</td>\n",
       "        <td style=\"padding-left: 1em; padding-right: 1em; text-align: center; vertical-align: top\">1</td>\n",
       "    </tr>\n",
       "    <tr>\n",
       "        <td style=\"padding-left: 1em; padding-right: 1em; text-align: center; vertical-align: top\">1538</td>\n",
       "        <td style=\"padding-left: 1em; padding-right: 1em; text-align: center; vertical-align: top\">Zhong Ao Home Group Ltd</td>\n",
       "        <td style=\"padding-left: 1em; padding-right: 1em; text-align: center; vertical-align: top\">11/27/2016</td>\n",
       "        <td style=\"padding-left: 1em; padding-right: 1em; text-align: center; vertical-align: top\">None</td>\n",
       "        <td style=\"padding-left: 1em; padding-right: 1em; text-align: center; vertical-align: top\">40000</td>\n",
       "        <td style=\"padding-left: 1em; padding-right: 1em; text-align: center; vertical-align: top\">7/20/2017</td>\n",
       "        <td style=\"padding-left: 1em; padding-right: 1em; text-align: center; vertical-align: top\">None</td>\n",
       "        <td style=\"padding-left: 1em; padding-right: 1em; text-align: center; vertical-align: top\">0</td>\n",
       "        <td style=\"padding-left: 1em; padding-right: 1em; text-align: center; vertical-align: top\">1</td>\n",
       "    </tr>\n",
       "    <tr>\n",
       "        <td style=\"padding-left: 1em; padding-right: 1em; text-align: center; vertical-align: top\">37B</td>\n",
       "        <td style=\"padding-left: 1em; padding-right: 1em; text-align: center; vertical-align: top\">B+C SPEAKERS</td>\n",
       "        <td style=\"padding-left: 1em; padding-right: 1em; text-align: center; vertical-align: top\">10/21/2013</td>\n",
       "        <td style=\"padding-left: 1em; padding-right: 1em; text-align: center; vertical-align: top\">None</td>\n",
       "        <td style=\"padding-left: 1em; padding-right: 1em; text-align: center; vertical-align: top\">3000</td>\n",
       "        <td style=\"padding-left: 1em; padding-right: 1em; text-align: center; vertical-align: top\">4/28/2014</td>\n",
       "        <td style=\"padding-left: 1em; padding-right: 1em; text-align: center; vertical-align: top\">None</td>\n",
       "        <td style=\"padding-left: 1em; padding-right: 1em; text-align: center; vertical-align: top\">0</td>\n",
       "        <td style=\"padding-left: 1em; padding-right: 1em; text-align: center; vertical-align: top\">0</td>\n",
       "    </tr>\n",
       "</table>\n",
       "<table frame=\"box\" rules=\"cols\">\n",
       "    <tr>\n",
       "        <th style=\"padding-left: 1em; padding-right: 1em; text-align: center\">MF</th>\n",
       "        <th style=\"padding-left: 1em; padding-right: 1em; text-align: center\">Valuation</th>\n",
       "        <th style=\"padding-left: 1em; padding-right: 1em; text-align: center\">Rev growth</th>\n",
       "        <th style=\"padding-left: 1em; padding-right: 1em; text-align: center\">Debt level</th>\n",
       "        <th style=\"padding-left: 1em; padding-right: 1em; text-align: center\">Understandable</th>\n",
       "        <th style=\"padding-left: 1em; padding-right: 1em; text-align: center\">Researchable</th>\n",
       "        <th style=\"padding-left: 1em; padding-right: 1em; text-align: center\">Industry</th>\n",
       "        <th style=\"padding-left: 1em; padding-right: 1em; text-align: center\">Market Cap</th>\n",
       "        <th style=\"padding-left: 1em; padding-right: 1em; text-align: center\">ROE</th>\n",
       "        <th style=\"padding-left: 1em; padding-right: 1em; text-align: center\">Holding duration (months)</th>\n",
       "    </tr>\n",
       "    <tr>\n",
       "        <td style=\"padding-left: 1em; padding-right: 1em; text-align: center; vertical-align: top\">0</td>\n",
       "        <td style=\"padding-left: 1em; padding-right: 1em; text-align: center; vertical-align: top\">2</td>\n",
       "        <td style=\"padding-left: 1em; padding-right: 1em; text-align: center; vertical-align: top\">0</td>\n",
       "        <td style=\"padding-left: 1em; padding-right: 1em; text-align: center; vertical-align: top\">4.1</td>\n",
       "        <td style=\"padding-left: 1em; padding-right: 1em; text-align: center; vertical-align: top\">3</td>\n",
       "        <td style=\"padding-left: 1em; padding-right: 1em; text-align: center; vertical-align: top\">2</td>\n",
       "        <td style=\"padding-left: 1em; padding-right: 1em; text-align: center; vertical-align: top\">Commodity</td>\n",
       "        <td style=\"padding-left: 1em; padding-right: 1em; text-align: center; vertical-align: top\">1800.0</td>\n",
       "        <td style=\"padding-left: 1em; padding-right: 1em; text-align: center; vertical-align: top\">-0.7</td>\n",
       "        <td style=\"padding-left: 1em; padding-right: 1em; text-align: center; vertical-align: top\">3</td>\n",
       "    </tr>\n",
       "    <tr>\n",
       "        <td style=\"padding-left: 1em; padding-right: 1em; text-align: center; vertical-align: top\">0</td>\n",
       "        <td style=\"padding-left: 1em; padding-right: 1em; text-align: center; vertical-align: top\">7</td>\n",
       "        <td style=\"padding-left: 1em; padding-right: 1em; text-align: center; vertical-align: top\">0</td>\n",
       "        <td style=\"padding-left: 1em; padding-right: 1em; text-align: center; vertical-align: top\">0.0</td>\n",
       "        <td style=\"padding-left: 1em; padding-right: 1em; text-align: center; vertical-align: top\">7</td>\n",
       "        <td style=\"padding-left: 1em; padding-right: 1em; text-align: center; vertical-align: top\">4</td>\n",
       "        <td style=\"padding-left: 1em; padding-right: 1em; text-align: center; vertical-align: top\">REIT</td>\n",
       "        <td style=\"padding-left: 1em; padding-right: 1em; text-align: center; vertical-align: top\">658.0</td>\n",
       "        <td style=\"padding-left: 1em; padding-right: 1em; text-align: center; vertical-align: top\">-0.01</td>\n",
       "        <td style=\"padding-left: 1em; padding-right: 1em; text-align: center; vertical-align: top\">8</td>\n",
       "    </tr>\n",
       "    <tr>\n",
       "        <td style=\"padding-left: 1em; padding-right: 1em; text-align: center; vertical-align: top\">0</td>\n",
       "        <td style=\"padding-left: 1em; padding-right: 1em; text-align: center; vertical-align: top\">7</td>\n",
       "        <td style=\"padding-left: 1em; padding-right: 1em; text-align: center; vertical-align: top\">7</td>\n",
       "        <td style=\"padding-left: 1em; padding-right: 1em; text-align: center; vertical-align: top\">0.0</td>\n",
       "        <td style=\"padding-left: 1em; padding-right: 1em; text-align: center; vertical-align: top\">8</td>\n",
       "        <td style=\"padding-left: 1em; padding-right: 1em; text-align: center; vertical-align: top\">7</td>\n",
       "        <td style=\"padding-left: 1em; padding-right: 1em; text-align: center; vertical-align: top\">Electronics</td>\n",
       "        <td style=\"padding-left: 1em; padding-right: 1em; text-align: center; vertical-align: top\">130.0</td>\n",
       "        <td style=\"padding-left: 1em; padding-right: 1em; text-align: center; vertical-align: top\">0.28</td>\n",
       "        <td style=\"padding-left: 1em; padding-right: 1em; text-align: center; vertical-align: top\">6</td>\n",
       "    </tr>\n",
       "</table>\n",
       "<table frame=\"box\" rules=\"cols\">\n",
       "    <tr>\n",
       "        <th style=\"padding-left: 1em; padding-right: 1em; text-align: center\">P&amp;L</th>\n",
       "    </tr>\n",
       "    <tr>\n",
       "        <td style=\"padding-left: 1em; padding-right: 1em; text-align: center; vertical-align: top\">-0.02</td>\n",
       "    </tr>\n",
       "    <tr>\n",
       "        <td style=\"padding-left: 1em; padding-right: 1em; text-align: center; vertical-align: top\">-0.38</td>\n",
       "    </tr>\n",
       "    <tr>\n",
       "        <td style=\"padding-left: 1em; padding-right: 1em; text-align: center; vertical-align: top\">0.5</td>\n",
       "    </tr>\n",
       "</table>\n",
       "[3 rows x 20 columns]<br/>\n",
       "</div>"
      ],
      "text/plain": [
       "Columns:\n",
       "\tTicker\tstr\n",
       "\tName\tstr\n",
       "\tDate bought\tstr\n",
       "\tPrice bought\tfloat\n",
       "\tAmount Bought\tint\n",
       "\tDate sold\tstr\n",
       "\tPrice Sold\tfloat\n",
       "\tSpin-Off\tint\n",
       "\tVIC\tint\n",
       "\tMF\tint\n",
       "\tValuation\tint\n",
       "\tRev growth\tint\n",
       "\tDebt level\tfloat\n",
       "\tUnderstandable\tint\n",
       "\tResearchable\tint\n",
       "\tIndustry\tstr\n",
       "\tMarket Cap\tfloat\n",
       "\tROE\tfloat\n",
       "\tHolding duration (months)\tint\n",
       "\tP&L\tfloat\n",
       "\n",
       "Rows: 3\n",
       "\n",
       "Data:\n",
       "+--------+-------------------------+-------------+--------------+---------------+\n",
       "| Ticker |           Name          | Date bought | Price bought | Amount Bought |\n",
       "+--------+-------------------------+-------------+--------------+---------------+\n",
       "|  975   |     Mongolian Mining    |  11/5/2016  |     None     |     20000     |\n",
       "|  1538  | Zhong Ao Home Group Ltd |  11/27/2016 |     None     |     40000     |\n",
       "|  37B   |       B+C SPEAKERS      |  10/21/2013 |     None     |      3000     |\n",
       "+--------+-------------------------+-------------+--------------+---------------+\n",
       "+-----------+------------+----------+-----+----+-----------+------------+------------+\n",
       "| Date sold | Price Sold | Spin-Off | VIC | MF | Valuation | Rev growth | Debt level |\n",
       "+-----------+------------+----------+-----+----+-----------+------------+------------+\n",
       "|  2/2/2017 |    None    |    0     |  1  | 0  |     2     |     0      |    4.1     |\n",
       "| 7/20/2017 |    None    |    0     |  1  | 0  |     7     |     0      |    0.0     |\n",
       "| 4/28/2014 |    None    |    0     |  0  | 0  |     7     |     7      |    0.0     |\n",
       "+-----------+------------+----------+-----+----+-----------+------------+------------+\n",
       "+----------------+--------------+-------------+------------+-------+---------------------------+\n",
       "| Understandable | Researchable |   Industry  | Market Cap |  ROE  | Holding duration (months) |\n",
       "+----------------+--------------+-------------+------------+-------+---------------------------+\n",
       "|       3        |      2       |  Commodity  |   1800.0   |  -0.7 |             3             |\n",
       "|       7        |      4       |     REIT    |   658.0    | -0.01 |             8             |\n",
       "|       8        |      7       | Electronics |   130.0    |  0.28 |             6             |\n",
       "+----------------+--------------+-------------+------------+-------+---------------------------+\n",
       "+-------+\n",
       "|  P&L  |\n",
       "+-------+\n",
       "| -0.02 |\n",
       "| -0.38 |\n",
       "|  0.5  |\n",
       "+-------+\n",
       "[3 rows x 20 columns]"
      ]
     },
     "execution_count": 19,
     "metadata": {},
     "output_type": "execute_result"
    }
   ],
   "source": [
    "trades.head(3)"
   ]
  },
  {
   "cell_type": "code",
   "execution_count": 20,
   "metadata": {
    "collapsed": true
   },
   "outputs": [],
   "source": [
    "#trades['Date bought'] = trades['Date bought'].apply(toD)   #convert to date format"
   ]
  },
  {
   "cell_type": "code",
   "execution_count": 21,
   "metadata": {
    "collapsed": false
   },
   "outputs": [
    {
     "data": {
      "application/javascript": [
       "$(\"head\").append($(\"<link/>\").attr({\n",
       "  rel:  \"stylesheet\",\n",
       "  type: \"text/css\",\n",
       "  href: \"//cdnjs.cloudflare.com/ajax/libs/font-awesome/4.1.0/css/font-awesome.min.css\"\n",
       "}));\n",
       "$(\"head\").append($(\"<link/>\").attr({\n",
       "  rel:  \"stylesheet\",\n",
       "  type: \"text/css\",\n",
       "  href: \"https://static.turi.com/products/graphlab-create/2.1/canvas/css/canvas.css\"\n",
       "}));\n",
       "\n",
       "            (function(){\n",
       "\n",
       "                var e = null;\n",
       "                if (typeof element == 'undefined') {\n",
       "                    var scripts = document.getElementsByTagName('script');\n",
       "                    var thisScriptTag = scripts[scripts.length-1];\n",
       "                    var parentDiv = thisScriptTag.parentNode;\n",
       "                    e = document.createElement('div');\n",
       "                    parentDiv.appendChild(e);\n",
       "                } else {\n",
       "                    e = element[0];\n",
       "                }\n",
       "\n",
       "                if (typeof requirejs !== 'undefined') {\n",
       "                    // disable load timeout; ipython_app.js is large and can take a while to load.\n",
       "                    requirejs.config({waitSeconds: 0});\n",
       "                }\n",
       "\n",
       "                require(['https://static.turi.com/products/graphlab-create/2.1/canvas/js/ipython_app.js'], function(IPythonApp){\n",
       "                    var app = new IPythonApp();\n",
       "                    app.attachView('sframe','Summary', {\"ipython\": true, \"sketch\": {\"VIC\": {\"std\": 0.4972222007287154, \"complete\": true, \"min\": 0.0, \"max\": 1.0, \"quantile\": [0.0, 0.0, 0.0, 0.0, 0.0, 0.0, 0.0, 0.0, 0.0, 0.0, 0.0, 0.0, 0.0, 0.0, 0.0, 0.0, 0.0, 0.0, 0.0, 0.0, 0.0, 0.0, 0.0, 0.0, 0.0, 0.0, 0.0, 0.0, 0.0, 0.0, 0.0, 0.0, 0.0, 0.0, 0.0, 0.0, 0.0, 0.0, 0.0, 0.0, 0.0, 0.0, 0.0, 0.0, 0.0, 1.0, 1.0, 1.0, 1.0, 1.0, 1.0, 1.0, 1.0, 1.0, 1.0, 1.0, 1.0, 1.0, 1.0, 1.0, 1.0, 1.0, 1.0, 1.0, 1.0, 1.0, 1.0, 1.0, 1.0, 1.0, 1.0, 1.0, 1.0, 1.0, 1.0, 1.0, 1.0, 1.0, 1.0, 1.0, 1.0, 1.0, 1.0, 1.0, 1.0, 1.0, 1.0, 1.0, 1.0, 1.0, 1.0, 1.0, 1.0, 1.0, 1.0, 1.0, 1.0, 1.0, 1.0, 1.0, 1.0], \"median\": 1.0, \"numeric\": true, \"num_unique\": 2, \"num_undefined\": 0, \"var\": 0.24722991689750695, \"progress\": 1.0, \"size\": 38, \"frequent_items\": {\"0\": {\"frequency\": 17, \"value\": 0}, \"1\": {\"frequency\": 21, \"value\": 1}}, \"mean\": 0.5526315789473684}, \"Rev growth\": {\"std\": 3.399934820949308, \"complete\": true, \"min\": 0.0, \"max\": 8.0, \"quantile\": [0.0, 0.0, 0.0, 0.0, 0.0, 0.0, 0.0, 0.0, 0.0, 0.0, 0.0, 0.0, 0.0, 0.0, 0.0, 0.0, 0.0, 0.0, 0.0, 0.0, 0.0, 0.0, 0.0, 0.0, 0.0, 0.0, 0.0, 0.0, 0.0, 0.0, 0.0, 0.0, 0.0, 0.0, 0.0, 0.0, 0.0, 0.0, 0.0, 0.0, 0.0, 0.0, 0.0, 0.0, 0.0, 0.0, 0.0, 0.0, 0.0, 0.0, 0.0, 0.0, 0.0, 0.0, 0.0, 0.0, 0.0, 0.0, 0.0, 0.0, 0.0, 0.0, 0.0, 0.0, 1.0, 1.0, 3.0, 3.0, 3.0, 6.0, 6.0, 6.0, 6.0, 6.0, 7.0, 7.0, 7.0, 7.0, 7.0, 7.0, 7.0, 7.0, 7.0, 7.0, 7.0, 8.0, 8.0, 8.0, 8.0, 8.0, 8.0, 8.0, 8.0, 8.0, 8.0, 8.0, 8.0, 8.0, 8.0, 8.0, 8.0], \"median\": 0.0, \"numeric\": true, \"num_unique\": 6, \"num_undefined\": 0, \"var\": 11.559556786703602, \"progress\": 1.0, \"size\": 38, \"frequent_items\": {\"0\": {\"frequency\": 24, \"value\": 0}, \"1\": {\"frequency\": 1, \"value\": 1}, \"3\": {\"frequency\": 1, \"value\": 3}, \"6\": {\"frequency\": 2, \"value\": 6}, \"7\": {\"frequency\": 4, \"value\": 7}, \"8\": {\"frequency\": 6, \"value\": 8}}, \"mean\": 2.421052631578947}, \"MF\": {\"std\": 0.4251445900369345, \"complete\": true, \"min\": 0.0, \"max\": 1.0, \"quantile\": [0.0, 0.0, 0.0, 0.0, 0.0, 0.0, 0.0, 0.0, 0.0, 0.0, 0.0, 0.0, 0.0, 0.0, 0.0, 0.0, 0.0, 0.0, 0.0, 0.0, 0.0, 0.0, 0.0, 0.0, 0.0, 0.0, 0.0, 0.0, 0.0, 0.0, 0.0, 0.0, 0.0, 0.0, 0.0, 0.0, 0.0, 0.0, 0.0, 0.0, 0.0, 0.0, 0.0, 0.0, 0.0, 0.0, 0.0, 0.0, 0.0, 0.0, 0.0, 0.0, 0.0, 0.0, 0.0, 0.0, 0.0, 0.0, 0.0, 0.0, 0.0, 0.0, 0.0, 0.0, 0.0, 0.0, 0.0, 0.0, 0.0, 0.0, 0.0, 0.0, 0.0, 0.0, 0.0, 0.0, 0.0, 1.0, 1.0, 1.0, 1.0, 1.0, 1.0, 1.0, 1.0, 1.0, 1.0, 1.0, 1.0, 1.0, 1.0, 1.0, 1.0, 1.0, 1.0, 1.0, 1.0, 1.0, 1.0, 1.0, 1.0], \"median\": 0.0, \"numeric\": true, \"num_unique\": 2, \"num_undefined\": 0, \"var\": 0.18074792243767313, \"progress\": 1.0, \"size\": 38, \"frequent_items\": {\"0\": {\"frequency\": 29, \"value\": 0}, \"1\": {\"frequency\": 9, \"value\": 1}}, \"mean\": 0.23684210526315788}, \"Name\": {\"complete\": true, \"numeric\": false, \"num_unique\": 38, \"num_undefined\": 0, \"progress\": 1.0, \"frequent_items\": {\"Natural Health Trends\": {\"frequency\": 1, \"value\": \"Natural Health ...\"}, \"Seritage\": {\"frequency\": 1, \"value\": \"Seritage\"}, \"Anika Therapeutics\": {\"frequency\": 1, \"value\": \"Anika Therapeutics\"}, \"CONN's\": {\"frequency\": 1, \"value\": \"CONN's\"}, \"NZME\": {\"frequency\": 1, \"value\": \"NZME\"}, \"Capstone\": {\"frequency\": 1, \"value\": \"Capstone\"}, \"Argan\": {\"frequency\": 1, \"value\": \"Argan\"}, \"Knight Therapeutics Inc\": {\"frequency\": 1, \"value\": \"Knight ...\"}, \"Lee Enterprise\": {\"frequency\": 1, \"value\": \"Lee Enterprise\"}, \"KPS AG\": {\"frequency\": 1, \"value\": \"KPS AG\"}, \"Horizon Global Corp\": {\"frequency\": 1, \"value\": \"Horizon Global ...\"}, \"Tribune Pushling\": {\"frequency\": 1, \"value\": \"Tribune Pushling\"}, \"Zhong Ao Home Group Ltd\": {\"frequency\": 1, \"value\": \"Zhong Ao Home ...\"}, \"One Holdings\": {\"frequency\": 1, \"value\": \"One Holdings\"}, \"Petroamerica\": {\"frequency\": 1, \"value\": \"Petroamerica\"}, \"Lending Club\": {\"frequency\": 1, \"value\": \"Lending Club\"}, \"Bergbahnen Engelberg-Truebsee-Titlis AG\": {\"frequency\": 1, \"value\": \"Bergbahnen ...\"}, \"Polaris\": {\"frequency\": 1, \"value\": \"Polaris\"}, \"Pacific Insight Electronics Corp\": {\"frequency\": 1, \"value\": \"Pacific Insight ...\"}, \"Mongolian Mining\": {\"frequency\": 1, \"value\": \"Mongolian Mining\"}, \"Valsoia\": {\"frequency\": 1, \"value\": \"Valsoia\"}, \"Zoom Telephonics\": {\"frequency\": 1, \"value\": \"Zoom Telephonics\"}, \"B+C SPEAKERS\": {\"frequency\": 1, \"value\": \"B+C SPEAKERS\"}, \"Spirit Airline\": {\"frequency\": 1, \"value\": \"Spirit Airline\"}, \"Lannett Co Inc\": {\"frequency\": 1, \"value\": \"Lannett Co Inc\"}, \"Forsight Energy\": {\"frequency\": 1, \"value\": \"Forsight Energy\"}, \"Spanish Broadcasting System Inc\": {\"frequency\": 1, \"value\": \"Spanish ...\"}, \"Google\": {\"frequency\": 1, \"value\": \"Google\"}, \"Horsehead Holdings\": {\"frequency\": 1, \"value\": \"Horsehead Holdings\"}, \"Barrett Business Services\": {\"frequency\": 1, \"value\": \"Barrett Business ...\"}, \"Barnes & Nobles\": {\"frequency\": 1, \"value\": \"Barnes & Nobles\"}, \"ITT Educational Services\": {\"frequency\": 1, \"value\": \"ITT Educational ...\"}, \"Windstream\": {\"frequency\": 1, \"value\": \"Windstream\"}, \"Rand Worldwide\": {\"frequency\": 1, \"value\": \"Rand Worldwide\"}, \"Interactive Brokers\": {\"frequency\": 1, \"value\": \"Interactive ...\"}, \"RMR Group\": {\"frequency\": 1, \"value\": \"RMR Group\"}, \"Inteliquent\": {\"frequency\": 1, \"value\": \"Inteliquent\"}, \"Precision Castparts Corp\": {\"frequency\": 1, \"value\": \"Precision ...\"}}, \"size\": 38}, \"Amount Bought\": {\"std\": 10933.535035186513, \"complete\": true, \"min\": 1000.0, \"max\": 45000.0, \"quantile\": [1000.0, 1000.0, 1000.0, 3000.0, 3000.0, 3000.0, 3000.0, 3000.0, 4600.0, 4600.0, 4600.0, 5000.0, 5000.0, 5000.0, 5000.0, 5000.0, 10000.0, 10000.0, 10000.0, 10000.0, 10000.0, 10000.0, 10000.0, 10000.0, 10000.0, 10000.0, 10000.0, 10000.0, 10000.0, 10000.0, 10000.0, 10000.0, 10000.0, 10000.0, 10000.0, 10000.0, 10000.0, 10000.0, 10000.0, 10000.0, 10000.0, 10000.0, 10000.0, 15000.0, 15000.0, 15000.0, 15000.0, 15000.0, 18000.0, 18000.0, 20000.0, 20000.0, 20000.0, 20000.0, 20000.0, 20000.0, 20000.0, 20000.0, 20000.0, 20000.0, 20000.0, 20000.0, 20000.0, 20000.0, 20000.0, 20000.0, 25000.0, 25000.0, 25000.0, 25000.0, 25000.0, 25000.0, 30000.0, 30000.0, 30000.0, 30000.0, 30000.0, 30000.0, 30000.0, 30000.0, 30000.0, 30000.0, 30000.0, 30000.0, 30000.0, 30000.0, 30000.0, 30000.0, 30000.0, 30000.0, 30000.0, 30000.0, 30000.0, 30000.0, 30000.0, 40000.0, 40000.0, 40000.0, 45000.0, 45000.0, 45000.0], \"median\": 20000.0, \"numeric\": true, \"num_unique\": 12, \"num_undefined\": 0, \"var\": 119542188.36565095, \"progress\": 1.0, \"size\": 38, \"frequent_items\": {\"20000\": {\"frequency\": 6, \"value\": 20000}, \"40000\": {\"frequency\": 1, \"value\": 40000}, \"25000\": {\"frequency\": 2, \"value\": 25000}, \"4600\": {\"frequency\": 1, \"value\": 4600}, \"5000\": {\"frequency\": 2, \"value\": 5000}, \"18000\": {\"frequency\": 1, \"value\": 18000}, \"30000\": {\"frequency\": 9, \"value\": 30000}, \"15000\": {\"frequency\": 2, \"value\": 15000}, \"45000\": {\"frequency\": 1, \"value\": 45000}, \"1000\": {\"frequency\": 1, \"value\": 1000}, \"3000\": {\"frequency\": 2, \"value\": 3000}, \"10000\": {\"frequency\": 10, \"value\": 10000}}, \"mean\": 18278.94736842105}, \"Ticker\": {\"complete\": true, \"numeric\": false, \"num_unique\": 38, \"num_undefined\": 0, \"progress\": 1.0, \"frequent_items\": {\"ZMTP\": {\"frequency\": 1, \"value\": \"ZMTP\"}, \"ANIK\": {\"frequency\": 1, \"value\": \"ANIK\"}, \"GUD\": {\"frequency\": 1, \"value\": \"GUD\"}, \"PCP\": {\"frequency\": 1, \"value\": \"PCP\"}, \"37B\": {\"frequency\": 1, \"value\": \"37B\"}, \"BBSI\": {\"frequency\": 1, \"value\": \"BBSI\"}, \"RWWI\": {\"frequency\": 1, \"value\": \"RWWI\"}, \"KSC\": {\"frequency\": 1, \"value\": \"KSC\"}, \"AGX\": {\"frequency\": 1, \"value\": \"AGX\"}, \"CONN\": {\"frequency\": 1, \"value\": \"CONN\"}, \"PIH\": {\"frequency\": 1, \"value\": \"PIH\"}, \"PII\": {\"frequency\": 1, \"value\": \"PII\"}, \"975\": {\"frequency\": 1, \"value\": \"975\"}, \"LC\": {\"frequency\": 1, \"value\": \"LC\"}, \"PTA\": {\"frequency\": 1, \"value\": \"PTA\"}, \"ONE\": {\"frequency\": 1, \"value\": \"ONE\"}, \"ESI\": {\"frequency\": 1, \"value\": \"ESI\"}, \"ZINC\": {\"frequency\": 1, \"value\": \"ZINC\"}, \"BKS\": {\"frequency\": 1, \"value\": \"BKS\"}, \"VLS\": {\"frequency\": 1, \"value\": \"VLS\"}, \"GOOG\": {\"frequency\": 1, \"value\": \"GOOG\"}, \"RMR\": {\"frequency\": 1, \"value\": \"RMR\"}, \"SRG\": {\"frequency\": 1, \"value\": \"SRG\"}, \"HZN\": {\"frequency\": 1, \"value\": \"HZN\"}, \"FELP\": {\"frequency\": 1, \"value\": \"FELP\"}, \"NHTC\": {\"frequency\": 1, \"value\": \"NHTC\"}, \"IBKR\": {\"frequency\": 1, \"value\": \"IBKR\"}, \"TIBN\": {\"frequency\": 1, \"value\": \"TIBN\"}, \"NZM\": {\"frequency\": 1, \"value\": \"NZM\"}, \"CAPC\": {\"frequency\": 1, \"value\": \"CAPC\"}, \"IQNT\": {\"frequency\": 1, \"value\": \"IQNT\"}, \"SBSA\": {\"frequency\": 1, \"value\": \"SBSA\"}, \"LEE\": {\"frequency\": 1, \"value\": \"LEE\"}, \"WIN\": {\"frequency\": 1, \"value\": \"WIN\"}, \"TPUB\": {\"frequency\": 1, \"value\": \"TPUB\"}, \"1538\": {\"frequency\": 1, \"value\": \"1538\"}, \"SAVE\": {\"frequency\": 1, \"value\": \"SAVE\"}, \"LCI\": {\"frequency\": 1, \"value\": \"LCI\"}}, \"size\": 38}, \"Industry\": {\"complete\": true, \"numeric\": false, \"num_unique\": 28, \"num_undefined\": 0, \"progress\": 1.0, \"frequent_items\": {\"Airlines\": {\"frequency\": 1, \"value\": \"Airlines\"}, \"Credit Services\": {\"frequency\": 1, \"value\": \"Credit Services\"}, \"Engineering & Construction\": {\"frequency\": 1, \"value\": \"Engineering & ...\"}, \"Pharmaceuticals\": {\"frequency\": 1, \"value\": \"Pharmaceuticals\"}, \"Recreational Vehicles\": {\"frequency\": 1, \"value\": \"Recreational ...\"}, \"Internet Content & Information\": {\"frequency\": 1, \"value\": \"Internet Content & ...\"}, \"Real Estate Services\": {\"frequency\": 1, \"value\": \"Real Estate ...\"}, \"Electronics\": {\"frequency\": 2, \"value\": \"Electronics\"}, \"Ski\": {\"frequency\": 1, \"value\": \"Ski\"}, \"Capital Markets\": {\"frequency\": 1, \"value\": \"Capital Markets\"}, \"Household & Personal Products\": {\"frequency\": 1, \"value\": \"Household & ...\"}, \"Electronic Components\": {\"frequency\": 1, \"value\": \"Electronic ...\"}, \"Commodity\": {\"frequency\": 4, \"value\": \"Commodity\"}, \"Business Services\": {\"frequency\": 1, \"value\": \"Business Services\"}, \"Newspapers\": {\"frequency\": 3, \"value\": \"Newspapers\"}, \"Communications\": {\"frequency\": 1, \"value\": \"Communications\"}, \"Food\": {\"frequency\": 1, \"value\": \"Food\"}, \"Biotechnology\": {\"frequency\": 1, \"value\": \"Biotechnology\"}, \"Industrial Distribution\": {\"frequency\": 1, \"value\": \"Industrial ...\"}, \"Drug Manufacturers - Specialty & Generic\": {\"frequency\": 1, \"value\": \"Drug Manufacturers ...\"}, \"Auto Supplier\": {\"frequency\": 1, \"value\": \"Auto Supplier\"}, \"REIT\": {\"frequency\": 3, \"value\": \"REIT\"}, \"Industrial\": {\"frequency\": 1, \"value\": \"Industrial\"}, \"Staffing & Outsourcing Services\": {\"frequency\": 1, \"value\": \"Staffing & ...\"}, \"Specialty Retail\": {\"frequency\": 2, \"value\": \"Specialty Retail\"}, \"Radio\": {\"frequency\": 1, \"value\": \"Radio\"}, \"Software - Application\": {\"frequency\": 1, \"value\": \"Software - ...\"}, \"Education\": {\"frequency\": 2, \"value\": \"Education\"}}, \"size\": 38}, \"Researchable\": {\"std\": 1.715983198621169, \"complete\": true, \"min\": 1.0, \"max\": 9.0, \"quantile\": [1.0, 1.0, 1.0, 2.0, 2.0, 2.0, 2.0, 2.0, 3.0, 3.0, 3.0, 4.0, 4.0, 4.0, 4.0, 4.0, 5.0, 5.0, 5.0, 5.0, 5.0, 5.0, 5.0, 5.0, 5.0, 5.0, 5.0, 5.0, 5.0, 6.0, 6.0, 6.0, 6.0, 6.0, 6.0, 6.0, 6.0, 6.0, 6.0, 6.0, 6.0, 6.0, 6.0, 6.0, 6.0, 6.0, 6.0, 6.0, 6.0, 6.0, 7.0, 7.0, 7.0, 7.0, 7.0, 7.0, 7.0, 7.0, 7.0, 7.0, 7.0, 7.0, 7.0, 7.0, 7.0, 7.0, 7.0, 7.0, 7.0, 7.0, 7.0, 7.0, 7.0, 7.0, 7.0, 7.0, 7.0, 7.0, 7.0, 7.0, 7.0, 7.0, 7.0, 7.0, 7.0, 7.0, 7.0, 7.0, 7.0, 7.0, 7.0, 7.0, 7.0, 8.0, 8.0, 8.0, 8.0, 8.0, 9.0, 9.0, 9.0], \"median\": 7.0, \"numeric\": true, \"num_unique\": 9, \"num_undefined\": 0, \"var\": 2.9445983379501386, \"progress\": 1.0, \"size\": 38, \"frequent_items\": {\"1\": {\"frequency\": 1, \"value\": 1}, \"2\": {\"frequency\": 2, \"value\": 2}, \"3\": {\"frequency\": 1, \"value\": 3}, \"4\": {\"frequency\": 2, \"value\": 4}, \"5\": {\"frequency\": 5, \"value\": 5}, \"6\": {\"frequency\": 8, \"value\": 6}, \"7\": {\"frequency\": 16, \"value\": 7}, \"8\": {\"frequency\": 2, \"value\": 8}, \"9\": {\"frequency\": 1, \"value\": 9}}, \"mean\": 5.947368421052632}, \"ROE\": {\"std\": 0.30560065281797105, \"complete\": true, \"min\": -0.7, \"max\": 0.8, \"quantile\": [-0.7, -0.7, -0.7, -0.6, -0.6, -0.6, -0.53, -0.53, -0.18, -0.18, -0.18, -0.06, -0.06, -0.06, -0.05, -0.05, -0.01, -0.01, -0.01, -0.01, -0.01, -0.01, 0.0, 0.0, 0.0, 0.0, 0.0, 0.0, 0.0, 0.0, 0.0, 0.0, 0.0, 0.0, 0.0, 0.0, 0.0, 0.01, 0.01, 0.01, 0.03, 0.03, 0.03, 0.07, 0.07, 0.09, 0.09, 0.09, 0.09, 0.09, 0.11, 0.11, 0.11, 0.14, 0.14, 0.14, 0.15, 0.15, 0.15, 0.15, 0.15, 0.15, 0.15, 0.15, 0.17, 0.17, 0.18, 0.18, 0.18, 0.18, 0.18, 0.18, 0.21, 0.21, 0.27, 0.27, 0.27, 0.28, 0.28, 0.28, 0.28, 0.28, 0.35, 0.35, 0.35, 0.35, 0.35, 0.37, 0.37, 0.37, 0.5, 0.5, 0.5, 0.7, 0.7, 0.78, 0.78, 0.78, 0.8, 0.8, 0.8], \"median\": 0.11, \"numeric\": true, \"num_unique\": 26, \"num_undefined\": 0, \"var\": 0.09339175900277008, \"progress\": 1.0, \"size\": 38, \"frequent_items\": {\"0.5\": {\"frequency\": 1, \"value\": 0.5}, \"0.0\": {\"frequency\": 6, \"value\": 0.0}, \"0.11\": {\"frequency\": 1, \"value\": 0.11}, \"0.09\": {\"frequency\": 2, \"value\": 0.09}, \"0.35\": {\"frequency\": 2, \"value\": 0.35}, \"0.7\": {\"frequency\": 1, \"value\": 0.7}, \"-0.05\": {\"frequency\": 1, \"value\": -0.05}, \"0.01\": {\"frequency\": 1, \"value\": 0.01}, \"0.03\": {\"frequency\": 1, \"value\": 0.03}, \"-0.6\": {\"frequency\": 1, \"value\": -0.6}, \"0.07\": {\"frequency\": 1, \"value\": 0.07}, \"0.21\": {\"frequency\": 1, \"value\": 0.21}, \"0.78\": {\"frequency\": 1, \"value\": 0.78}, \"-0.18\": {\"frequency\": 1, \"value\": -0.18}, \"0.18\": {\"frequency\": 2, \"value\": 0.18}, \"-0.53\": {\"frequency\": 1, \"value\": -0.53}, \"0.15\": {\"frequency\": 3, \"value\": 0.15}, \"0.27\": {\"frequency\": 1, \"value\": 0.27}, \"-0.06\": {\"frequency\": 1, \"value\": -0.06}, \"0.14\": {\"frequency\": 1, \"value\": 0.14}, \"-0.01\": {\"frequency\": 2, \"value\": -0.01}, \"0.8\": {\"frequency\": 1, \"value\": 0.8}, \"-0.7\": {\"frequency\": 1, \"value\": -0.7}, \"0.37\": {\"frequency\": 1, \"value\": 0.37}, \"0.17\": {\"frequency\": 1, \"value\": 0.17}, \"0.28\": {\"frequency\": 2, \"value\": 0.28}}, \"mean\": 0.11236842105263158}, \"P&L\": {\"std\": 0.655318957674878, \"complete\": true, \"min\": -0.8, \"max\": 2.74, \"quantile\": [-0.8, -0.8, -0.8, -0.73, -0.73, -0.73, -0.7, -0.7, -0.69, -0.69, -0.69, -0.54, -0.54, -0.54, -0.38, -0.38, -0.38, -0.38, -0.38, -0.31, -0.31, -0.31, -0.29, -0.29, -0.13, -0.13, -0.13, -0.12, -0.12, -0.1, -0.1, -0.1, -0.06, -0.06, -0.06, -0.06, -0.06, -0.04, -0.04, -0.04, -0.04, -0.04, -0.04, -0.02, -0.02, -0.01, -0.01, -0.01, 0.01, 0.01, 0.07, 0.07, 0.07, 0.08, 0.08, 0.08, 0.08, 0.08, 0.09, 0.09, 0.09, 0.1, 0.1, 0.1, 0.2, 0.2, 0.22, 0.22, 0.22, 0.29, 0.29, 0.29, 0.43, 0.43, 0.43, 0.43, 0.43, 0.48, 0.48, 0.5, 0.5, 0.5, 0.59, 0.59, 0.59, 0.72, 0.72, 0.94, 0.94, 0.94, 0.94, 0.94, 0.94, 1.16, 1.16, 1.33, 1.33, 1.33, 2.74, 2.74, 2.74], \"median\": 0.07, \"numeric\": true, \"num_unique\": 32, \"num_undefined\": 0, \"var\": 0.4294429362880886, \"progress\": 1.0, \"size\": 38, \"frequent_items\": {\"0.5\": {\"frequency\": 1, \"value\": 0.5}, \"0.94\": {\"frequency\": 2, \"value\": 0.94}, \"0.22\": {\"frequency\": 1, \"value\": 0.22}, \"-0.31\": {\"frequency\": 1, \"value\": -0.31}, \"0.72\": {\"frequency\": 1, \"value\": 0.72}, \"-0.8\": {\"frequency\": 1, \"value\": -0.8}, \"-0.1\": {\"frequency\": 1, \"value\": -0.1}, \"0.08\": {\"frequency\": 2, \"value\": 0.08}, \"1.16\": {\"frequency\": 1, \"value\": 1.16}, \"-0.01\": {\"frequency\": 1, \"value\": -0.01}, \"0.48\": {\"frequency\": 1, \"value\": 0.48}, \"-0.54\": {\"frequency\": 1, \"value\": -0.54}, \"0.01\": {\"frequency\": 1, \"value\": 0.01}, \"0.59\": {\"frequency\": 1, \"value\": 0.59}, \"0.09\": {\"frequency\": 1, \"value\": 0.09}, \"2.74\": {\"frequency\": 1, \"value\": 2.74}, \"-0.04\": {\"frequency\": 2, \"value\": -0.04}, \"1.33\": {\"frequency\": 1, \"value\": 1.33}, \"-0.06\": {\"frequency\": 2, \"value\": -0.06}, \"0.29\": {\"frequency\": 1, \"value\": 0.29}, \"-0.13\": {\"frequency\": 1, \"value\": -0.13}, \"-0.29\": {\"frequency\": 1, \"value\": -0.29}, \"0.43\": {\"frequency\": 2, \"value\": 0.43}, \"-0.02\": {\"frequency\": 1, \"value\": -0.02}, \"0.1\": {\"frequency\": 1, \"value\": 0.1}, \"0.2\": {\"frequency\": 1, \"value\": 0.2}, \"-0.7\": {\"frequency\": 1, \"value\": -0.7}, \"-0.38\": {\"frequency\": 2, \"value\": -0.38}, \"-0.12\": {\"frequency\": 1, \"value\": -0.12}, \"-0.73\": {\"frequency\": 1, \"value\": -0.73}, \"0.07\": {\"frequency\": 1, \"value\": 0.07}, \"-0.69\": {\"frequency\": 1, \"value\": -0.69}}, \"mean\": 0.15789473684210528}, \"Price Sold\": {\"std\": 108.54514580129026, \"complete\": true, \"min\": 0.58, \"max\": 532.9415884, \"quantile\": [0.58, 0.58, 0.58, 0.98, 0.98, 0.98, 1.3, 1.3, 1.3, 1.35, 1.35, 1.35, 1.9, 1.9, 1.9, 2.0, 2.0, 2.0, 2.154788, 2.154788, 2.45, 2.45, 2.45, 2.5524505, 2.5524505, 2.5524505, 5.2, 5.2, 5.2, 6.93, 6.93, 6.93, 6.961, 6.961, 6.961, 9.0, 9.0, 9.0, 9.0292549, 9.0292549, 9.72, 9.72, 9.72, 9.95, 9.95, 9.95, 10.5, 10.5, 10.5, 12.8192206, 12.8192206, 12.8192206, 14.47, 14.47, 14.47, 15.0, 15.0, 15.0, 15.3, 15.3, 20.84, 20.84, 20.84, 22.55, 22.55, 22.55, 36.25, 36.25, 36.25, 37.21, 37.21, 37.21, 42.9624378, 42.9624378, 42.9624378, 48.845, 48.845, 48.845, 53.0, 53.0, 58.73, 58.73, 58.73, 60.17, 60.17, 60.17, 62.0907835, 62.0907835, 62.0907835, 92.45, 92.45, 92.45, 192.6, 192.6, 192.6, 388.7734375, 388.7734375, 388.7734375, 532.9415884, 532.9415884, 532.9415884], \"median\": 12.8192206, \"numeric\": true, \"num_unique\": 35, \"num_undefined\": 3, \"var\": 11782.048677023362, \"progress\": 1.0, \"size\": 38, \"frequent_items\": {\"36.25\": {\"frequency\": 1, \"value\": 36.25}, \"10.5\": {\"frequency\": 1, \"value\": 10.5}, \"2.0\": {\"frequency\": 1, \"value\": 2.0}, \"388.7734375\": {\"frequency\": 1, \"value\": 388.7734375}, \"12.8192206\": {\"frequency\": 1, \"value\": 12.8192206}, \"9.0\": {\"frequency\": 1, \"value\": 9.0}, \"48.845\": {\"frequency\": 1, \"value\": 48.845}, \"58.73\": {\"frequency\": 1, \"value\": 58.73}, \"9.95\": {\"frequency\": 1, \"value\": 9.95}, \"1.9\": {\"frequency\": 1, \"value\": 1.9}, \"37.21\": {\"frequency\": 1, \"value\": 37.21}, \"92.45\": {\"frequency\": 1, \"value\": 92.45}, \"0.58\": {\"frequency\": 1, \"value\": 0.58}, \"42.9624378\": {\"frequency\": 1, \"value\": 42.9624378}, \"9.72\": {\"frequency\": 1, \"value\": 9.72}, \"2.5524505\": {\"frequency\": 1, \"value\": 2.5524505}, \"62.0907835\": {\"frequency\": 1, \"value\": 62.0907835}, \"6.93\": {\"frequency\": 1, \"value\": 6.93}, \"5.2\": {\"frequency\": 1, \"value\": 5.2}, \"53.0\": {\"frequency\": 1, \"value\": 53.0}, \"6.961\": {\"frequency\": 1, \"value\": 6.961}, \"60.17\": {\"frequency\": 1, \"value\": 60.17}, \"192.6\": {\"frequency\": 1, \"value\": 192.6}, \"2.45\": {\"frequency\": 1, \"value\": 2.45}, \"0.98\": {\"frequency\": 1, \"value\": 0.98}, \"15.0\": {\"frequency\": 1, \"value\": 15.0}, \"14.47\": {\"frequency\": 1, \"value\": 14.47}, \"1.3\": {\"frequency\": 1, \"value\": 1.3}, \"1.35\": {\"frequency\": 1, \"value\": 1.35}, \"15.3\": {\"frequency\": 1, \"value\": 15.3}, \"22.55\": {\"frequency\": 1, \"value\": 22.55}, \"20.84\": {\"frequency\": 1, \"value\": 20.84}, \"2.154788\": {\"frequency\": 1, \"value\": 2.154788}, \"532.9415884\": {\"frequency\": 1, \"value\": 532.9415884}, \"9.0292549\": {\"frequency\": 1, \"value\": 9.0292549}}, \"mean\": 51.13028460571429}, \"Date sold\": {\"complete\": true, \"numeric\": false, \"num_unique\": 26, \"num_undefined\": 0, \"progress\": 1.0, \"frequent_items\": {\"4/29/2015\": {\"frequency\": 1, \"value\": \"4/29/2015\"}, \"1/23/2017\": {\"frequency\": 1, \"value\": \"1/23/2017\"}, \"11/6/2014\": {\"frequency\": 1, \"value\": \"11/6/2014\"}, \"10/29/2014\": {\"frequency\": 1, \"value\": \"10/29/2014\"}, \"2/1/2016\": {\"frequency\": 1, \"value\": \"2/1/2016\"}, \"7/13/2015\": {\"frequency\": 1, \"value\": \"7/13/2015\"}, \"9/18/2015\": {\"frequency\": 1, \"value\": \"9/18/2015\"}, \"4/27/2015\": {\"frequency\": 1, \"value\": \"4/27/2015\"}, \"4/28/2014\": {\"frequency\": 1, \"value\": \"4/28/2014\"}, \"11/16/2015\": {\"frequency\": 1, \"value\": \"11/16/2015\"}, \"10/4/2016\": {\"frequency\": 1, \"value\": \"10/4/2016\"}, \"10/17/2014\": {\"frequency\": 1, \"value\": \"10/17/2014\"}, \"12/1/2015\": {\"frequency\": 1, \"value\": \"12/1/2015\"}, \"1/25/2017\": {\"frequency\": 1, \"value\": \"1/25/2017\"}, \"10/5/2015\": {\"frequency\": 1, \"value\": \"10/5/2015\"}, \"6/4/2014\": {\"frequency\": 1, \"value\": \"6/4/2014\"}, \"10/10/2016\": {\"frequency\": 1, \"value\": \"10/10/2016\"}, \"2/2/2017\": {\"frequency\": 1, \"value\": \"2/2/2017\"}, \"7/20/2017\": {\"frequency\": 13, \"value\": \"7/20/2017\"}, \"7/20/2015\": {\"frequency\": 1, \"value\": \"7/20/2015\"}, \"7/21/2015\": {\"frequency\": 1, \"value\": \"7/21/2015\"}, \"3/9/2015\": {\"frequency\": 1, \"value\": \"3/9/2015\"}, \"6/8/2016\": {\"frequency\": 1, \"value\": \"6/8/2016\"}, \"3/21/2016\": {\"frequency\": 1, \"value\": \"3/21/2016\"}, \"2/14/2017\": {\"frequency\": 1, \"value\": \"2/14/2017\"}, \"4/10/2105\": {\"frequency\": 1, \"value\": \"4/10/2105\"}}, \"size\": 38}, \"Understandable\": {\"std\": 1.7210204407097318, \"complete\": true, \"min\": 2.0, \"max\": 9.0, \"quantile\": [2.0, 2.0, 2.0, 3.0, 3.0, 3.0, 3.0, 3.0, 3.0, 3.0, 3.0, 3.0, 3.0, 3.0, 4.0, 4.0, 4.0, 4.0, 4.0, 4.0, 4.0, 4.0, 4.0, 4.0, 4.0, 4.0, 4.0, 4.0, 4.0, 4.0, 4.0, 4.0, 5.0, 5.0, 5.0, 5.0, 5.0, 5.0, 5.0, 5.0, 6.0, 6.0, 6.0, 6.0, 6.0, 6.0, 6.0, 6.0, 6.0, 6.0, 6.0, 6.0, 6.0, 6.0, 6.0, 6.0, 6.0, 6.0, 6.0, 6.0, 6.0, 6.0, 6.0, 6.0, 7.0, 7.0, 7.0, 7.0, 7.0, 7.0, 7.0, 7.0, 7.0, 7.0, 7.0, 7.0, 7.0, 7.0, 7.0, 7.0, 7.0, 7.0, 7.0, 7.0, 7.0, 7.0, 7.0, 8.0, 8.0, 8.0, 8.0, 8.0, 8.0, 8.0, 8.0, 8.0, 8.0, 8.0, 9.0, 9.0, 9.0], \"median\": 6.0, \"numeric\": true, \"num_unique\": 8, \"num_undefined\": 0, \"var\": 2.96191135734072, \"progress\": 1.0, \"size\": 38, \"frequent_items\": {\"2\": {\"frequency\": 1, \"value\": 2}, \"3\": {\"frequency\": 4, \"value\": 3}, \"4\": {\"frequency\": 7, \"value\": 4}, \"5\": {\"frequency\": 3, \"value\": 5}, \"6\": {\"frequency\": 9, \"value\": 6}, \"7\": {\"frequency\": 9, \"value\": 7}, \"8\": {\"frequency\": 4, \"value\": 8}, \"9\": {\"frequency\": 1, \"value\": 9}}, \"mean\": 5.657894736842104}, \"Date bought\": {\"complete\": true, \"numeric\": false, \"num_unique\": 35, \"num_undefined\": 0, \"progress\": 1.0, \"frequent_items\": {\"6/23/2014\": {\"frequency\": 1, \"value\": \"6/23/2014\"}, \"1/23/2016\": {\"frequency\": 1, \"value\": \"1/23/2016\"}, \"1/20/2015\": {\"frequency\": 2, \"value\": \"1/20/2015\"}, \"7/3/2014\": {\"frequency\": 1, \"value\": \"7/3/2014\"}, \"6/21/2015\": {\"frequency\": 1, \"value\": \"6/21/2015\"}, \"10/29/2014\": {\"frequency\": 1, \"value\": \"10/29/2014\"}, \"1/29/2016\": {\"frequency\": 1, \"value\": \"1/29/2016\"}, \"4/1/2017\": {\"frequency\": 1, \"value\": \"4/1/2017\"}, \"10/9/2015\": {\"frequency\": 1, \"value\": \"10/9/2015\"}, \"12/26/2014\": {\"frequency\": 1, \"value\": \"12/26/2014\"}, \"10/27/2014\": {\"frequency\": 1, \"value\": \"10/27/2014\"}, \"7/19/2013\": {\"frequency\": 1, \"value\": \"7/19/2013\"}, \"5/24/2014\": {\"frequency\": 1, \"value\": \"5/24/2014\"}, \"3/30/2014\": {\"frequency\": 1, \"value\": \"3/30/2014\"}, \"9/18/2014\": {\"frequency\": 1, \"value\": \"9/18/2014\"}, \"9/18/2015\": {\"frequency\": 1, \"value\": \"9/18/2015\"}, \"2/3/2015\": {\"frequency\": 1, \"value\": \"2/3/2015\"}, \"10/21/2013\": {\"frequency\": 1, \"value\": \"10/21/2013\"}, \"2/21/2016\": {\"frequency\": 1, \"value\": \"2/21/2016\"}, \"1/24/2017\": {\"frequency\": 1, \"value\": \"1/24/2017\"}, \"2/19/2015\": {\"frequency\": 1, \"value\": \"2/19/2015\"}, \"4/25/2016\": {\"frequency\": 1, \"value\": \"4/25/2016\"}, \"6/30/2016\": {\"frequency\": 1, \"value\": \"6/30/2016\"}, \"11/27/2016\": {\"frequency\": 1, \"value\": \"11/27/2016\"}, \"11/6/2014\": {\"frequency\": 1, \"value\": \"11/6/2014\"}, \"3/29/2016\": {\"frequency\": 1, \"value\": \"3/29/2016\"}, \"7/20/2015\": {\"frequency\": 1, \"value\": \"7/20/2015\"}, \"5/12/2014\": {\"frequency\": 1, \"value\": \"5/12/2014\"}, \"11/18/2014\": {\"frequency\": 2, \"value\": \"11/18/2014\"}, \"9/25/2014\": {\"frequency\": 1, \"value\": \"9/25/2014\"}, \"11/17/2014\": {\"frequency\": 1, \"value\": \"11/17/2014\"}, \"8/27/2014\": {\"frequency\": 1, \"value\": \"8/27/2014\"}, \"11/5/2016\": {\"frequency\": 1, \"value\": \"11/5/2016\"}, \"11/20/2016\": {\"frequency\": 2, \"value\": \"11/20/2016\"}, \"1/4/2017\": {\"frequency\": 1, \"value\": \"1/4/2017\"}}, \"size\": 38}, \"Debt level\": {\"std\": 5.594201860840721, \"complete\": true, \"min\": 0.0, \"max\": 33.0, \"quantile\": [0.0, 0.0, 0.0, 0.0, 0.0, 0.0, 0.0, 0.0, 0.0, 0.0, 0.0, 0.0, 0.0, 0.0, 0.0, 0.0, 0.0, 0.0, 0.0, 0.0, 0.0, 0.0, 0.0, 0.0, 0.0, 0.0, 0.0, 0.0, 0.0, 0.0, 0.0, 0.0, 0.0, 0.0, 0.0, 0.0, 0.0, 0.0, 0.0, 0.0, 0.0, 0.0, 0.0, 0.1, 0.1, 0.3, 0.3, 0.3, 0.35, 0.35, 0.4, 0.4, 0.4, 0.42, 0.42, 0.42, 0.5, 0.5, 0.8, 0.8, 0.8, 1.0, 1.0, 1.0, 1.0, 1.0, 1.4, 1.4, 1.4, 1.45, 1.45, 1.45, 1.7, 1.7, 2.0, 2.0, 2.0, 2.1, 2.1, 2.14, 2.14, 2.14, 2.2, 2.2, 2.2, 4.1, 4.1, 4.2, 4.2, 4.2, 4.8, 4.8, 4.8, 10.0, 10.0, 10.0, 10.0, 10.0, 33.0, 33.0, 33.0], \"median\": 0.4, \"numeric\": true, \"num_unique\": 21, \"num_undefined\": 0, \"var\": 31.29509445983379, \"progress\": 1.0, \"size\": 38, \"frequent_items\": {\"0.0\": {\"frequency\": 16, \"value\": 0.0}, \"33.0\": {\"frequency\": 1, \"value\": 33.0}, \"2.0\": {\"frequency\": 1, \"value\": 2.0}, \"0.3\": {\"frequency\": 1, \"value\": 0.3}, \"2.2\": {\"frequency\": 1, \"value\": 2.2}, \"0.1\": {\"frequency\": 1, \"value\": 0.1}, \"2.14\": {\"frequency\": 1, \"value\": 2.14}, \"0.8\": {\"frequency\": 1, \"value\": 0.8}, \"1.7\": {\"frequency\": 1, \"value\": 1.7}, \"10.0\": {\"frequency\": 2, \"value\": 10.0}, \"1.45\": {\"frequency\": 1, \"value\": 1.45}, \"0.4\": {\"frequency\": 1, \"value\": 0.4}, \"4.8\": {\"frequency\": 1, \"value\": 4.8}, \"1.4\": {\"frequency\": 1, \"value\": 1.4}, \"2.1\": {\"frequency\": 1, \"value\": 2.1}, \"1.0\": {\"frequency\": 2, \"value\": 1.0}, \"4.2\": {\"frequency\": 1, \"value\": 4.2}, \"0.42\": {\"frequency\": 1, \"value\": 0.42}, \"4.1\": {\"frequency\": 1, \"value\": 4.1}, \"0.35\": {\"frequency\": 1, \"value\": 0.35}, \"0.5\": {\"frequency\": 1, \"value\": 0.5}}, \"mean\": 2.209473684210526}, \"Price bought\": {\"std\": 105.0005830587755, \"complete\": true, \"min\": 0.5285643, \"max\": 537.5, \"quantile\": [0.5285643, 0.5285643, 0.5285643, 0.66, 0.66, 0.66, 2.1140381, 2.1140381, 2.1140381, 2.14, 2.14, 2.14, 2.3641659, 2.3641659, 2.3641659, 2.9, 2.9, 2.9, 3.4335329, 3.4335329, 4.15, 4.15, 4.15, 4.269, 4.269, 4.269, 6.1294189, 6.1294189, 6.1294189, 6.4443778, 6.4443778, 6.4443778, 6.6670037, 6.6670037, 6.6670037, 6.9479332, 6.9479332, 6.9479332, 7.2419981, 7.2419981, 11.2, 11.2, 11.2, 11.6, 11.6, 11.6, 13.5, 13.5, 13.5, 14.09, 14.09, 14.09, 14.6222525, 14.6222525, 14.6222525, 15.71, 15.71, 15.71, 17.38, 17.38, 18.9098336, 18.9098336, 18.9098336, 19.68, 19.68, 19.68, 25.0, 25.0, 25.0, 26.0130418, 26.0130418, 26.0130418, 30.0, 30.0, 30.0, 32.03, 32.03, 32.03, 41.0, 41.0, 41.48, 41.48, 41.48, 42.199, 42.199, 42.199, 50.8903046, 50.8903046, 50.8903046, 148.51, 148.51, 148.51, 205.89, 205.89, 205.89, 317.4023438, 317.4023438, 317.4023438, 537.5, 537.5, 537.5], \"median\": 14.09, \"numeric\": true, \"num_unique\": 35, \"num_undefined\": 3, \"var\": 11025.122442682812, \"progress\": 1.0, \"size\": 38, \"frequent_items\": {\"537.5\": {\"frequency\": 1, \"value\": 537.5}, \"13.5\": {\"frequency\": 1, \"value\": 13.5}, \"14.09\": {\"frequency\": 1, \"value\": 14.09}, \"14.6222525\": {\"frequency\": 1, \"value\": 14.6222525}, \"205.89\": {\"frequency\": 1, \"value\": 205.89}, \"50.8903046\": {\"frequency\": 1, \"value\": 50.8903046}, \"6.1294189\": {\"frequency\": 1, \"value\": 6.1294189}, \"41.48\": {\"frequency\": 1, \"value\": 41.48}, \"6.6670037\": {\"frequency\": 1, \"value\": 6.6670037}, \"317.4023438\": {\"frequency\": 1, \"value\": 317.4023438}, \"25.0\": {\"frequency\": 1, \"value\": 25.0}, \"11.2\": {\"frequency\": 1, \"value\": 11.2}, \"30.0\": {\"frequency\": 1, \"value\": 30.0}, \"32.03\": {\"frequency\": 1, \"value\": 32.03}, \"41.0\": {\"frequency\": 1, \"value\": 41.0}, \"2.14\": {\"frequency\": 1, \"value\": 2.14}, \"148.51\": {\"frequency\": 1, \"value\": 148.51}, \"0.5285643\": {\"frequency\": 1, \"value\": 0.5285643}, \"17.38\": {\"frequency\": 1, \"value\": 17.38}, \"2.1140381\": {\"frequency\": 1, \"value\": 2.1140381}, \"2.3641659\": {\"frequency\": 1, \"value\": 2.3641659}, \"6.9479332\": {\"frequency\": 1, \"value\": 6.9479332}, \"0.66\": {\"frequency\": 1, \"value\": 0.66}, \"2.9\": {\"frequency\": 1, \"value\": 2.9}, \"11.6\": {\"frequency\": 1, \"value\": 11.6}, \"4.15\": {\"frequency\": 1, \"value\": 4.15}, \"42.199\": {\"frequency\": 1, \"value\": 42.199}, \"26.0130418\": {\"frequency\": 1, \"value\": 26.0130418}, \"3.4335329\": {\"frequency\": 1, \"value\": 3.4335329}, \"6.4443778\": {\"frequency\": 1, \"value\": 6.4443778}, \"7.2419981\": {\"frequency\": 1, \"value\": 7.2419981}, \"18.9098336\": {\"frequency\": 1, \"value\": 18.9098336}, \"4.269\": {\"frequency\": 1, \"value\": 4.269}, \"15.71\": {\"frequency\": 1, \"value\": 15.71}, \"19.68\": {\"frequency\": 1, \"value\": 19.68}}, \"mean\": 48.30276597714286}, \"Spin-Off\": {\"std\": 0.2696565991042, \"complete\": true, \"min\": 0.0, \"max\": 1.0, \"quantile\": [0.0, 0.0, 0.0, 0.0, 0.0, 0.0, 0.0, 0.0, 0.0, 0.0, 0.0, 0.0, 0.0, 0.0, 0.0, 0.0, 0.0, 0.0, 0.0, 0.0, 0.0, 0.0, 0.0, 0.0, 0.0, 0.0, 0.0, 0.0, 0.0, 0.0, 0.0, 0.0, 0.0, 0.0, 0.0, 0.0, 0.0, 0.0, 0.0, 0.0, 0.0, 0.0, 0.0, 0.0, 0.0, 0.0, 0.0, 0.0, 0.0, 0.0, 0.0, 0.0, 0.0, 0.0, 0.0, 0.0, 0.0, 0.0, 0.0, 0.0, 0.0, 0.0, 0.0, 0.0, 0.0, 0.0, 0.0, 0.0, 0.0, 0.0, 0.0, 0.0, 0.0, 0.0, 0.0, 0.0, 0.0, 0.0, 0.0, 0.0, 0.0, 0.0, 0.0, 0.0, 0.0, 0.0, 0.0, 0.0, 0.0, 0.0, 0.0, 0.0, 0.0, 1.0, 1.0, 1.0, 1.0, 1.0, 1.0, 1.0, 1.0], \"median\": 0.0, \"numeric\": true, \"num_unique\": 2, \"num_undefined\": 0, \"var\": 0.07271468144044321, \"progress\": 1.0, \"size\": 38, \"frequent_items\": {\"0\": {\"frequency\": 35, \"value\": 0}, \"1\": {\"frequency\": 3, \"value\": 1}}, \"mean\": 0.07894736842105263}, \"Market Cap\": {\"std\": 48067.10320040365, \"complete\": true, \"min\": 27.0, \"max\": 300000.0, \"quantile\": [27.0, 27.0, 27.0, 30.0, 30.0, 30.0, 50.0, 50.0, 50.0, 50.0, 50.0, 60.0, 60.0, 60.0, 70.0, 70.0, 100.0, 100.0, 100.0, 100.0, 100.0, 100.0, 130.0, 130.0, 150.0, 150.0, 150.0, 200.0, 200.0, 200.0, 200.0, 200.0, 200.0, 200.0, 200.0, 260.0, 260.0, 300.0, 300.0, 300.0, 350.0, 350.0, 350.0, 400.0, 400.0, 400.0, 400.0, 400.0, 413.0, 413.0, 500.0, 500.0, 500.0, 540.0, 540.0, 540.0, 638.0, 638.0, 658.0, 658.0, 658.0, 700.0, 700.0, 700.0, 700.0, 700.0, 705.0, 705.0, 705.0, 800.0, 800.0, 800.0, 806.0, 806.0, 994.0, 994.0, 994.0, 1700.0, 1700.0, 1800.0, 1800.0, 1800.0, 2000.0, 2000.0, 2000.0, 3000.0, 3000.0, 9000.0, 9000.0, 9000.0, 10000.0, 10000.0, 10000.0, 15000.0, 15000.0, 37000.0, 37000.0, 37000.0, 300000.0, 300000.0, 300000.0], \"median\": 500.0, \"numeric\": true, \"num_unique\": 32, \"num_undefined\": 0, \"var\": 2310446410.078255, \"progress\": 1.0, \"size\": 38, \"frequent_items\": {\"130.0\": {\"frequency\": 1, \"value\": 130.0}, \"260.0\": {\"frequency\": 1, \"value\": 260.0}, \"1800.0\": {\"frequency\": 1, \"value\": 1800.0}, \"10000.0\": {\"frequency\": 1, \"value\": 10000.0}, \"658.0\": {\"frequency\": 1, \"value\": 658.0}, \"150.0\": {\"frequency\": 1, \"value\": 150.0}, \"15000.0\": {\"frequency\": 1, \"value\": 15000.0}, \"27.0\": {\"frequency\": 1, \"value\": 27.0}, \"540.0\": {\"frequency\": 1, \"value\": 540.0}, \"413.0\": {\"frequency\": 1, \"value\": 413.0}, \"30.0\": {\"frequency\": 1, \"value\": 30.0}, \"800.0\": {\"frequency\": 1, \"value\": 800.0}, \"1700.0\": {\"frequency\": 1, \"value\": 1700.0}, \"806.0\": {\"frequency\": 1, \"value\": 806.0}, \"9000.0\": {\"frequency\": 1, \"value\": 9000.0}, \"300.0\": {\"frequency\": 1, \"value\": 300.0}, \"37000.0\": {\"frequency\": 1, \"value\": 37000.0}, \"50.0\": {\"frequency\": 2, \"value\": 50.0}, \"3000.0\": {\"frequency\": 1, \"value\": 3000.0}, \"700.0\": {\"frequency\": 2, \"value\": 700.0}, \"705.0\": {\"frequency\": 1, \"value\": 705.0}, \"70.0\": {\"frequency\": 1, \"value\": 70.0}, \"200.0\": {\"frequency\": 3, \"value\": 200.0}, \"2000.0\": {\"frequency\": 1, \"value\": 2000.0}, \"350.0\": {\"frequency\": 1, \"value\": 350.0}, \"300000.0\": {\"frequency\": 1, \"value\": 300000.0}, \"400.0\": {\"frequency\": 2, \"value\": 400.0}, \"994.0\": {\"frequency\": 1, \"value\": 994.0}, \"100.0\": {\"frequency\": 2, \"value\": 100.0}, \"60.0\": {\"frequency\": 1, \"value\": 60.0}, \"500.0\": {\"frequency\": 1, \"value\": 500.0}, \"638.0\": {\"frequency\": 1, \"value\": 638.0}}, \"mean\": 10263.973684210527}, \"Holding duration (months)\": {\"std\": 9.853216356914999, \"complete\": true, \"min\": 1.0, \"max\": 39.0, \"quantile\": [1.0, 1.0, 1.0, 2.0, 2.0, 2.0, 2.0, 2.0, 3.0, 3.0, 3.0, 3.0, 3.0, 3.0, 4.0, 4.0, 5.0, 5.0, 5.0, 5.0, 5.0, 5.0, 6.0, 6.0, 6.0, 6.0, 6.0, 6.0, 6.0, 6.0, 6.0, 6.0, 6.0, 6.0, 6.0, 6.0, 6.0, 6.0, 6.0, 6.0, 7.0, 7.0, 7.0, 7.0, 7.0, 7.0, 7.0, 7.0, 8.0, 8.0, 8.0, 8.0, 8.0, 8.0, 8.0, 8.0, 8.0, 8.0, 9.0, 9.0, 9.0, 9.0, 9.0, 9.0, 11.0, 11.0, 11.0, 11.0, 11.0, 12.0, 12.0, 12.0, 13.0, 13.0, 13.0, 13.0, 13.0, 15.0, 15.0, 15.0, 15.0, 15.0, 18.0, 18.0, 18.0, 26.0, 26.0, 29.0, 29.0, 29.0, 32.0, 32.0, 32.0, 33.0, 33.0, 35.0, 35.0, 35.0, 39.0, 39.0, 39.0], \"median\": 8.0, \"numeric\": true, \"num_unique\": 20, \"num_undefined\": 0, \"var\": 97.08587257617728, \"progress\": 1.0, \"size\": 38, \"frequent_items\": {\"32\": {\"frequency\": 1, \"value\": 32}, \"1\": {\"frequency\": 1, \"value\": 1}, \"2\": {\"frequency\": 2, \"value\": 2}, \"3\": {\"frequency\": 2, \"value\": 3}, \"4\": {\"frequency\": 1, \"value\": 4}, \"5\": {\"frequency\": 2, \"value\": 5}, \"6\": {\"frequency\": 7, \"value\": 6}, \"7\": {\"frequency\": 3, \"value\": 7}, \"8\": {\"frequency\": 4, \"value\": 8}, \"9\": {\"frequency\": 2, \"value\": 9}, \"39\": {\"frequency\": 1, \"value\": 39}, \"12\": {\"frequency\": 1, \"value\": 12}, \"13\": {\"frequency\": 2, \"value\": 13}, \"15\": {\"frequency\": 2, \"value\": 15}, \"11\": {\"frequency\": 2, \"value\": 11}, \"18\": {\"frequency\": 1, \"value\": 18}, \"35\": {\"frequency\": 1, \"value\": 35}, \"33\": {\"frequency\": 1, \"value\": 33}, \"26\": {\"frequency\": 1, \"value\": 26}, \"29\": {\"frequency\": 1, \"value\": 29}}, \"mean\": 11.578947368421051}, \"Valuation\": {\"std\": 2.5881950202030524, \"complete\": true, \"min\": 0.0, \"max\": 9.0, \"quantile\": [0.0, 0.0, 0.0, 0.0, 0.0, 0.0, 1.0, 1.0, 1.0, 1.0, 1.0, 2.0, 2.0, 2.0, 2.0, 2.0, 2.0, 2.0, 2.0, 2.0, 2.0, 2.0, 3.0, 3.0, 3.0, 3.0, 3.0, 3.0, 3.0, 4.0, 4.0, 4.0, 5.0, 5.0, 5.0, 5.0, 5.0, 5.0, 5.0, 5.0, 6.0, 6.0, 6.0, 6.0, 6.0, 6.0, 6.0, 6.0, 6.0, 6.0, 6.0, 6.0, 6.0, 6.0, 6.0, 6.0, 7.0, 7.0, 7.0, 7.0, 7.0, 7.0, 7.0, 7.0, 7.0, 7.0, 7.0, 7.0, 7.0, 7.0, 7.0, 7.0, 7.0, 7.0, 7.0, 7.0, 7.0, 7.0, 7.0, 8.0, 8.0, 8.0, 8.0, 8.0, 8.0, 8.0, 8.0, 8.0, 8.0, 8.0, 8.0, 8.0, 8.0, 8.0, 8.0, 9.0, 9.0, 9.0, 9.0, 9.0, 9.0], \"median\": 6.0, \"numeric\": true, \"num_unique\": 10, \"num_undefined\": 0, \"var\": 6.698753462603878, \"progress\": 1.0, \"size\": 38, \"frequent_items\": {\"0\": {\"frequency\": 2, \"value\": 0}, \"1\": {\"frequency\": 2, \"value\": 1}, \"2\": {\"frequency\": 4, \"value\": 2}, \"3\": {\"frequency\": 3, \"value\": 3}, \"4\": {\"frequency\": 1, \"value\": 4}, \"5\": {\"frequency\": 3, \"value\": 5}, \"6\": {\"frequency\": 6, \"value\": 6}, \"7\": {\"frequency\": 9, \"value\": 7}, \"8\": {\"frequency\": 6, \"value\": 8}, \"9\": {\"frequency\": 2, \"value\": 9}}, \"mean\": 5.342105263157894}}, \"selected_variable\": {\"name\": [\"trades\"], \"descriptives\": {\"rows\": 38, \"columns\": 20}, \"view_component\": \"Summary\", \"view_file\": \"sframe\", \"view_params\": {\"y\": \"P&L\", \"x\": \"Debt level\", \"columns\": [\"Ticker\", \"Name\", \"Date bought\", \"Price bought\", \"Amount Bought\", \"Date sold\", \"Price Sold\", \"Spin-Off\", \"VIC\", \"MF\", \"Valuation\", \"Rev growth\", \"Debt level\", \"Understandable\", \"Researchable\", \"Industry\", \"Market Cap\", \"ROE\", \"Holding duration (months)\", \"P&L\"], \"view\": \"Scatter plot\"}, \"view_components\": [\"Summary\", \"Table\", \"Bar Chart\", \"BoxWhisker Plot\", \"Line Chart\", \"Scatter Plot\", \"Heat Map\", \"Plots\"], \"type\": \"SFrame\", \"columns\": [{\"dtype\": \"str\", \"name\": \"Ticker\"}, {\"dtype\": \"str\", \"name\": \"Name\"}, {\"dtype\": \"str\", \"name\": \"Date bought\"}, {\"dtype\": \"float\", \"name\": \"Price bought\"}, {\"dtype\": \"int\", \"name\": \"Amount Bought\"}, {\"dtype\": \"str\", \"name\": \"Date sold\"}, {\"dtype\": \"float\", \"name\": \"Price Sold\"}, {\"dtype\": \"int\", \"name\": \"Spin-Off\"}, {\"dtype\": \"int\", \"name\": \"VIC\"}, {\"dtype\": \"int\", \"name\": \"MF\"}, {\"dtype\": \"int\", \"name\": \"Valuation\"}, {\"dtype\": \"int\", \"name\": \"Rev growth\"}, {\"dtype\": \"float\", \"name\": \"Debt level\"}, {\"dtype\": \"int\", \"name\": \"Understandable\"}, {\"dtype\": \"int\", \"name\": \"Researchable\"}, {\"dtype\": \"str\", \"name\": \"Industry\"}, {\"dtype\": \"float\", \"name\": \"Market Cap\"}, {\"dtype\": \"float\", \"name\": \"ROE\"}, {\"dtype\": \"int\", \"name\": \"Holding duration (months)\"}, {\"dtype\": \"float\", \"name\": \"P&L\"}], \"column_identifiers\": [\"VIC\", \"Rev growth\", \"MF\", \"Name\", \"Amount Bought\", \"Ticker\", \"Industry\", \"Researchable\", \"ROE\", \"P&L\", \"Price Sold\", \"Date sold\", \"Understandable\", \"Date bought\", \"Debt level\", \"Price bought\", \"Spin-Off\", \"Market Cap\", \"Holding duration (months)\", \"Valuation\"]}, \"columns\": [{\"dtype\": \"str\", \"name\": \"Ticker\"}, {\"dtype\": \"str\", \"name\": \"Name\"}, {\"dtype\": \"str\", \"name\": \"Date bought\"}, {\"dtype\": \"float\", \"name\": \"Price bought\"}, {\"dtype\": \"int\", \"name\": \"Amount Bought\"}, {\"dtype\": \"str\", \"name\": \"Date sold\"}, {\"dtype\": \"float\", \"name\": \"Price Sold\"}, {\"dtype\": \"int\", \"name\": \"Spin-Off\"}, {\"dtype\": \"int\", \"name\": \"VIC\"}, {\"dtype\": \"int\", \"name\": \"MF\"}, {\"dtype\": \"int\", \"name\": \"Valuation\"}, {\"dtype\": \"int\", \"name\": \"Rev growth\"}, {\"dtype\": \"float\", \"name\": \"Debt level\"}, {\"dtype\": \"int\", \"name\": \"Understandable\"}, {\"dtype\": \"int\", \"name\": \"Researchable\"}, {\"dtype\": \"str\", \"name\": \"Industry\"}, {\"dtype\": \"float\", \"name\": \"Market Cap\"}, {\"dtype\": \"float\", \"name\": \"ROE\"}, {\"dtype\": \"int\", \"name\": \"Holding duration (months)\"}, {\"dtype\": \"float\", \"name\": \"P&L\"}]}, e);\n",
       "                });\n",
       "            })();\n",
       "        "
      ]
     },
     "metadata": {},
     "output_type": "display_data"
    }
   ],
   "source": [
    "graphlab.canvas.set_target('ipynb')\n",
    "trades.show(view=\"Scatter plot\", x=\"Debt level\", y=\"P&L\")"
   ]
  },
  {
   "cell_type": "code",
   "execution_count": 22,
   "metadata": {
    "collapsed": false
   },
   "outputs": [
    {
     "data": {
      "application/javascript": [
       "$(\"head\").append($(\"<link/>\").attr({\n",
       "  rel:  \"stylesheet\",\n",
       "  type: \"text/css\",\n",
       "  href: \"//cdnjs.cloudflare.com/ajax/libs/font-awesome/4.1.0/css/font-awesome.min.css\"\n",
       "}));\n",
       "$(\"head\").append($(\"<link/>\").attr({\n",
       "  rel:  \"stylesheet\",\n",
       "  type: \"text/css\",\n",
       "  href: \"https://static.turi.com/products/graphlab-create/2.1/canvas/css/canvas.css\"\n",
       "}));\n",
       "\n",
       "            (function(){\n",
       "\n",
       "                var e = null;\n",
       "                if (typeof element == 'undefined') {\n",
       "                    var scripts = document.getElementsByTagName('script');\n",
       "                    var thisScriptTag = scripts[scripts.length-1];\n",
       "                    var parentDiv = thisScriptTag.parentNode;\n",
       "                    e = document.createElement('div');\n",
       "                    parentDiv.appendChild(e);\n",
       "                } else {\n",
       "                    e = element[0];\n",
       "                }\n",
       "\n",
       "                if (typeof requirejs !== 'undefined') {\n",
       "                    // disable load timeout; ipython_app.js is large and can take a while to load.\n",
       "                    requirejs.config({waitSeconds: 0});\n",
       "                }\n",
       "\n",
       "                require(['https://static.turi.com/products/graphlab-create/2.1/canvas/js/ipython_app.js'], function(IPythonApp){\n",
       "                    var app = new IPythonApp();\n",
       "                    app.attachView('sframe','Plots', {\"selected_variable\": {\"name\": [\"trades\"], \"descriptives\": {\"rows\": 38, \"columns\": 20}, \"view_component\": \"Plots\", \"view_file\": \"sframe\", \"view_params\": {\"y\": \"P&L\", \"x\": \"Market Cap\", \"columns\": [\"Ticker\", \"Name\", \"Date bought\", \"Price bought\", \"Amount Bought\", \"Date sold\", \"Price Sold\", \"Spin-Off\", \"VIC\", \"MF\", \"Valuation\", \"Rev growth\", \"Debt level\", \"Understandable\", \"Researchable\", \"Industry\", \"Market Cap\", \"ROE\", \"Holding duration (months)\", \"P&L\"], \"view\": \"Scatter Plot\"}, \"view_components\": [\"Summary\", \"Table\", \"Bar Chart\", \"BoxWhisker Plot\", \"Line Chart\", \"Scatter Plot\", \"Heat Map\", \"Plots\"], \"type\": \"SFrame\", \"columns\": [{\"dtype\": \"str\", \"name\": \"Ticker\"}, {\"dtype\": \"str\", \"name\": \"Name\"}, {\"dtype\": \"str\", \"name\": \"Date bought\"}, {\"dtype\": \"float\", \"name\": \"Price bought\"}, {\"dtype\": \"int\", \"name\": \"Amount Bought\"}, {\"dtype\": \"str\", \"name\": \"Date sold\"}, {\"dtype\": \"float\", \"name\": \"Price Sold\"}, {\"dtype\": \"int\", \"name\": \"Spin-Off\"}, {\"dtype\": \"int\", \"name\": \"VIC\"}, {\"dtype\": \"int\", \"name\": \"MF\"}, {\"dtype\": \"int\", \"name\": \"Valuation\"}, {\"dtype\": \"int\", \"name\": \"Rev growth\"}, {\"dtype\": \"float\", \"name\": \"Debt level\"}, {\"dtype\": \"int\", \"name\": \"Understandable\"}, {\"dtype\": \"int\", \"name\": \"Researchable\"}, {\"dtype\": \"str\", \"name\": \"Industry\"}, {\"dtype\": \"float\", \"name\": \"Market Cap\"}, {\"dtype\": \"float\", \"name\": \"ROE\"}, {\"dtype\": \"int\", \"name\": \"Holding duration (months)\"}, {\"dtype\": \"float\", \"name\": \"P&L\"}], \"column_identifiers\": [\"VIC\", \"Rev growth\", \"MF\", \"Name\", \"Amount Bought\", \"Ticker\", \"Industry\", \"Researchable\", \"ROE\", \"P&L\", \"Price Sold\", \"Date sold\", \"Understandable\", \"Date bought\", \"Debt level\", \"Price bought\", \"Spin-Off\", \"Market Cap\", \"Holding duration (months)\", \"Valuation\"]}, \"complete\": 1, \"ipython\": true, \"progress\": 1.0, \"data\": [[1800.0, -0.02], [658.0, -0.38], [130.0, 0.5], [994.0, 2.74], [705.0, -0.13], [413.0, 0.94], [540.0, 0.2], [27.0, 0.1], [350.0, 0.94], [400.0, 1.33], [638.0, -0.8], [300000.0, -0.01], [700.0, 0.59], [300.0, 0.07], [15000.0, 0.43], [800.0, 0.09], [500.0, -0.04], [10000.0, -0.73], [806.0, 0.43], [100.0, -0.1], [50.0, 1.16], [150.0, 0.48], [260.0, 0.08], [37000.0, -0.06], [70.0, -0.06], [9000.0, -0.38], [100.0, -0.7], [700.0, 0.72], [60.0, 0.01], [3000.0, 0.29], [50.0, -0.69], [1700.0, -0.04], [200.0, 0.22], [400.0, -0.54], [200.0, -0.12], [2000.0, 0.08], [200.0, -0.29], [30.0, -0.31]], \"columns\": [{\"dtype\": \"str\", \"name\": \"Ticker\"}, {\"dtype\": \"str\", \"name\": \"Name\"}, {\"dtype\": \"str\", \"name\": \"Date bought\"}, {\"dtype\": \"float\", \"name\": \"Price bought\"}, {\"dtype\": \"int\", \"name\": \"Amount Bought\"}, {\"dtype\": \"str\", \"name\": \"Date sold\"}, {\"dtype\": \"float\", \"name\": \"Price Sold\"}, {\"dtype\": \"int\", \"name\": \"Spin-Off\"}, {\"dtype\": \"int\", \"name\": \"VIC\"}, {\"dtype\": \"int\", \"name\": \"MF\"}, {\"dtype\": \"int\", \"name\": \"Valuation\"}, {\"dtype\": \"int\", \"name\": \"Rev growth\"}, {\"dtype\": \"float\", \"name\": \"Debt level\"}, {\"dtype\": \"int\", \"name\": \"Understandable\"}, {\"dtype\": \"int\", \"name\": \"Researchable\"}, {\"dtype\": \"str\", \"name\": \"Industry\"}, {\"dtype\": \"float\", \"name\": \"Market Cap\"}, {\"dtype\": \"float\", \"name\": \"ROE\"}, {\"dtype\": \"int\", \"name\": \"Holding duration (months)\"}, {\"dtype\": \"float\", \"name\": \"P&L\"}]}, e);\n",
       "                });\n",
       "            })();\n",
       "        "
      ]
     },
     "metadata": {},
     "output_type": "display_data"
    }
   ],
   "source": [
    "trades.show(view=\"Scatter Plot\", x=\"Market Cap\", y=\"P&L\") #learn "
   ]
  },
  {
   "cell_type": "code",
   "execution_count": 23,
   "metadata": {
    "collapsed": true
   },
   "outputs": [],
   "source": [
    "my_features = [\n",
    " 'Amount Bought',\n",
    " 'Spin-Off',\n",
    " 'VIC',\n",
    " 'MF',\n",
    " 'Valuation',\n",
    " 'Rev growth',\n",
    " 'Debt level',\n",
    " 'Understandable',\n",
    " 'Researchable',\n",
    " 'Market Cap',\n",
    " 'ROE']"
   ]
  },
  {
   "cell_type": "code",
   "execution_count": 24,
   "metadata": {
    "collapsed": false
   },
   "outputs": [
    {
     "data": {
      "text/plain": [
       "['Ticker',\n",
       " 'Name',\n",
       " 'Date bought',\n",
       " 'Price bought',\n",
       " 'Amount Bought',\n",
       " 'Date sold',\n",
       " 'Price Sold',\n",
       " 'Spin-Off',\n",
       " 'VIC',\n",
       " 'MF',\n",
       " 'Valuation',\n",
       " 'Rev growth',\n",
       " 'Debt level',\n",
       " 'Understandable',\n",
       " 'Researchable',\n",
       " 'Industry',\n",
       " 'Market Cap',\n",
       " 'ROE',\n",
       " 'Holding duration (months)',\n",
       " 'P&L']"
      ]
     },
     "execution_count": 24,
     "metadata": {},
     "output_type": "execute_result"
    }
   ],
   "source": [
    "trades.column_names()"
   ]
  },
  {
   "cell_type": "code",
   "execution_count": 11,
   "metadata": {
    "collapsed": true
   },
   "outputs": [],
   "source": [
    "#train_data,test_data = trades.random_split(.8,seed=0) #Commenting to run model on all trades in file"
   ]
  },
  {
   "cell_type": "code",
   "execution_count": 25,
   "metadata": {
    "collapsed": false
   },
   "outputs": [
    {
     "data": {
      "text/html": [
       "<pre>Linear regression:</pre>"
      ],
      "text/plain": [
       "Linear regression:"
      ]
     },
     "metadata": {},
     "output_type": "display_data"
    },
    {
     "data": {
      "text/html": [
       "<pre>--------------------------------------------------------</pre>"
      ],
      "text/plain": [
       "--------------------------------------------------------"
      ]
     },
     "metadata": {},
     "output_type": "display_data"
    },
    {
     "data": {
      "text/html": [
       "<pre>Number of examples          : 38</pre>"
      ],
      "text/plain": [
       "Number of examples          : 38"
      ]
     },
     "metadata": {},
     "output_type": "display_data"
    },
    {
     "data": {
      "text/html": [
       "<pre>Number of features          : 11</pre>"
      ],
      "text/plain": [
       "Number of features          : 11"
      ]
     },
     "metadata": {},
     "output_type": "display_data"
    },
    {
     "data": {
      "text/html": [
       "<pre>Number of unpacked features : 11</pre>"
      ],
      "text/plain": [
       "Number of unpacked features : 11"
      ]
     },
     "metadata": {},
     "output_type": "display_data"
    },
    {
     "data": {
      "text/html": [
       "<pre>Number of coefficients    : 12</pre>"
      ],
      "text/plain": [
       "Number of coefficients    : 12"
      ]
     },
     "metadata": {},
     "output_type": "display_data"
    },
    {
     "data": {
      "text/html": [
       "<pre>Starting Newton Method</pre>"
      ],
      "text/plain": [
       "Starting Newton Method"
      ]
     },
     "metadata": {},
     "output_type": "display_data"
    },
    {
     "data": {
      "text/html": [
       "<pre>--------------------------------------------------------</pre>"
      ],
      "text/plain": [
       "--------------------------------------------------------"
      ]
     },
     "metadata": {},
     "output_type": "display_data"
    },
    {
     "data": {
      "text/html": [
       "<pre>+-----------+----------+--------------+--------------------+---------------+</pre>"
      ],
      "text/plain": [
       "+-----------+----------+--------------+--------------------+---------------+"
      ]
     },
     "metadata": {},
     "output_type": "display_data"
    },
    {
     "data": {
      "text/html": [
       "<pre>| Iteration | Passes   | Elapsed Time | Training-max_error | Training-rmse |</pre>"
      ],
      "text/plain": [
       "| Iteration | Passes   | Elapsed Time | Training-max_error | Training-rmse |"
      ]
     },
     "metadata": {},
     "output_type": "display_data"
    },
    {
     "data": {
      "text/html": [
       "<pre>+-----------+----------+--------------+--------------------+---------------+</pre>"
      ],
      "text/plain": [
       "+-----------+----------+--------------+--------------------+---------------+"
      ]
     },
     "metadata": {},
     "output_type": "display_data"
    },
    {
     "data": {
      "text/html": [
       "<pre>| 1         | 2        | 1.004748     | 1.222428           | 0.485858      |</pre>"
      ],
      "text/plain": [
       "| 1         | 2        | 1.004748     | 1.222428           | 0.485858      |"
      ]
     },
     "metadata": {},
     "output_type": "display_data"
    },
    {
     "data": {
      "text/html": [
       "<pre>+-----------+----------+--------------+--------------------+---------------+</pre>"
      ],
      "text/plain": [
       "+-----------+----------+--------------+--------------------+---------------+"
      ]
     },
     "metadata": {},
     "output_type": "display_data"
    },
    {
     "data": {
      "text/html": [
       "<pre>SUCCESS: Optimal solution found.</pre>"
      ],
      "text/plain": [
       "SUCCESS: Optimal solution found."
      ]
     },
     "metadata": {},
     "output_type": "display_data"
    },
    {
     "data": {
      "text/html": [
       "<pre></pre>"
      ],
      "text/plain": []
     },
     "metadata": {},
     "output_type": "display_data"
    }
   ],
   "source": [
    "linear_model = graphlab.linear_regression.create(trades,target='P&L',features=my_features,validation_set=None)"
   ]
  },
  {
   "cell_type": "code",
   "execution_count": 27,
   "metadata": {
    "collapsed": false
   },
   "outputs": [
    {
     "name": "stdout",
     "output_type": "stream",
     "text": [
      "-0.186\n"
     ]
    }
   ],
   "source": [
    "print test_data['P&L'].mean()"
   ]
  },
  {
   "cell_type": "code",
   "execution_count": 26,
   "metadata": {
    "collapsed": false
   },
   "outputs": [
    {
     "name": "stdout",
     "output_type": "stream",
     "text": [
      "{'max_error': 1.2224277075188301, 'rmse': 0.4858576638749993}\n"
     ]
    }
   ],
   "source": [
    "print linear_model.evaluate(trades)"
   ]
  },
  {
   "cell_type": "code",
   "execution_count": 28,
   "metadata": {
    "collapsed": false
   },
   "outputs": [
    {
     "name": "stderr",
     "output_type": "stream",
     "text": [
      "/Users/Quentin/anaconda/envs/gl-env/lib/python2.7/site-packages/matplotlib/font_manager.py:273: UserWarning: Matplotlib is building the font cache using fc-list. This may take a moment.\n",
      "  warnings.warn('Matplotlib is building the font cache using fc-list. This may take a moment.')\n"
     ]
    }
   ],
   "source": [
    "import matplotlib.pyplot as plt\n",
    "%matplotlib inline"
   ]
  },
  {
   "cell_type": "code",
   "execution_count": 29,
   "metadata": {
    "collapsed": false
   },
   "outputs": [
    {
     "data": {
      "text/plain": [
       "[<matplotlib.lines.Line2D at 0x11da2fb90>,\n",
       " <matplotlib.lines.Line2D at 0x11da2fc50>]"
      ]
     },
     "execution_count": 29,
     "metadata": {},
     "output_type": "execute_result"
    },
    {
     "data": {
      "image/png": "[encoded data removed]",
      "text/plain": [
       "<matplotlib.figure.Figure at 0x11d6ecb50>"
      ]
     },
     "metadata": {},
     "output_type": "display_data"
    }
   ],
   "source": [
    "plt.plot(trades['ROE'],trades['P&L'],'.',\n",
    "        trades['ROE'],linear_model.predict(trades),'o')"
   ]
  },
  {
   "cell_type": "code",
   "execution_count": 30,
   "metadata": {
    "collapsed": false
   },
   "outputs": [
    {
     "name": "stdout",
     "output_type": "stream",
     "text": [
      "+----------------+-------+--------------------+-------------------+\n",
      "|      name      | index |       value        |       stderr      |\n",
      "+----------------+-------+--------------------+-------------------+\n",
      "|    Spin-Off    |  None |   0.642470256505   |   0.441155754941  |\n",
      "|      ROE       |  None |   0.573657128355   |   0.384400041559  |\n",
      "|      VIC       |  None |   0.564014250746   |   0.239247571063  |\n",
      "|       MF       |  None |   0.222683644919   |   0.258159045981  |\n",
      "|   Rev growth   |  None |  0.0622985822563   |  0.0351367228878  |\n",
      "|   Valuation    |  None |  0.0509661374379   |  0.0406978341406  |\n",
      "|  (intercept)   |  None |  0.0324895619866   |   0.519096410939  |\n",
      "|  Researchable  |  None |  0.0130681485219   |  0.0632841529956  |\n",
      "|   Market Cap   |  None | -3.38070419453e-07 | 2.26057065472e-06 |\n",
      "| Amount Bought  |  None | -2.27753094838e-05 | 1.02312129277e-05 |\n",
      "|   Debt level   |  None |  -0.0228669650083  |  0.0219175639819  |\n",
      "| Understandable |  None |  -0.0679975854565  |  0.0701668417389  |\n",
      "+----------------+-------+--------------------+-------------------+\n",
      "[12 rows x 4 columns]\n",
      "\n"
     ]
    }
   ],
   "source": [
    "linear_model.get('coefficients').sort('value', ascending=False).print_rows(num_rows=15)"
   ]
  },
  {
   "cell_type": "code",
   "execution_count": 31,
   "metadata": {
    "collapsed": false
   },
   "outputs": [],
   "source": [
    "CAPC = trades[trades['Ticker']=='CAPC']"
   ]
  },
  {
   "cell_type": "code",
   "execution_count": 32,
   "metadata": {
    "collapsed": false
   },
   "outputs": [
    {
     "name": "stdout",
     "output_type": "stream",
     "text": [
      "[-0.10461473936849422]\n"
     ]
    }
   ],
   "source": [
    "print linear_model.predict(trades[trades['Ticker']=='CONN'])"
   ]
  },
  {
   "cell_type": "code",
   "execution_count": null,
   "metadata": {
    "collapsed": false
   },
   "outputs": [],
   "source": [
    "type(CAPC)"
   ]
  },
  {
   "cell_type": "code",
   "execution_count": null,
   "metadata": {
    "collapsed": false
   },
   "outputs": [],
   "source": [
    "linear_model.predict(CAPC)[0]"
   ]
  },
  {
   "cell_type": "code",
   "execution_count": 33,
   "metadata": {
    "collapsed": false,
    "scrolled": true
   },
   "outputs": [],
   "source": [
    "# Display trade according to prediction (limited value since this is the training set)\n",
    "liste = []\n",
    "for i in range(len(trades)):\n",
    "    tick = trades['Ticker'][i]\n",
    "    #print(tick, linear_model.predict(trades[trades['Ticker']==tick])[0])\n",
    "    liste.append((tick, linear_model.predict(trades[trades['Ticker']==tick])[0]))"
   ]
  },
  {
   "cell_type": "code",
   "execution_count": 34,
   "metadata": {
    "collapsed": false
   },
   "outputs": [
    {
     "data": {
      "text/plain": [
       "[('AGX', 1.51757229248117),\n",
       " ('RMR', 0.9682301268154769),\n",
       " ('NHTC', 0.7975075127285038),\n",
       " ('IQNT', 0.7698072650982097),\n",
       " ('RWWI', 0.7212584574602661),\n",
       " ('LCI', 0.6571755334550841),\n",
       " ('NZM', 0.6535665766052112),\n",
       " ('PIH', 0.6131510103737114),\n",
       " ('TIBN', 0.5355653872332266),\n",
       " ('37B', 0.46509307418083373),\n",
       " ('SAVE', 0.4362529979917402),\n",
       " ('GUD', 0.3734046369079106),\n",
       " ('ONE', 0.261391936917293),\n",
       " ('ESI', 0.2100520656730036),\n",
       " ('ZINC', 0.20853532886810575),\n",
       " ('BBSI', 0.20397812454959974),\n",
       " ('HZN', 0.08468922615309865),\n",
       " ('VLS', 0.052827639805576296),\n",
       " ('GOOG', 0.0012154854535542936),\n",
       " ('LC', -0.010710427748429396),\n",
       " ('CAPC', -0.018731180491267707),\n",
       " ('TPUB', -0.02332517758531219),\n",
       " ('PII', -0.03584392466235008),\n",
       " ('SRG', -0.09076368439126253),\n",
       " ('KSC', -0.09456964287319441),\n",
       " ('CONN', -0.10461473936849422),\n",
       " ('LEE', -0.12236153246342374),\n",
       " ('PCP', -0.13984931516972338),\n",
       " ('IBKR', -0.15131186548157943),\n",
       " ('ANIK', -0.1670395830253348),\n",
       " ('WIN', -0.18343919253898666),\n",
       " ('SBSA', -0.20145672985938828),\n",
       " ('PTA', -0.23287590135263728),\n",
       " ('BKS', -0.32624198801455345),\n",
       " ('1538', -0.38741513028030905),\n",
       " ('FELP', -0.3986743429429953),\n",
       " ('ZMTP', -0.41120068597222714),\n",
       " ('975', -0.43084963453010217)]"
      ]
     },
     "execution_count": 34,
     "metadata": {},
     "output_type": "execute_result"
    }
   ],
   "source": [
    "sorted(liste, key=lambda x: -x[1])"
   ]
  },
  {
   "cell_type": "code",
   "execution_count": 35,
   "metadata": {
    "collapsed": false
   },
   "outputs": [
    {
     "data": {
      "text/html": [
       "<pre>Finished parsing file /Users/Quentin/Documents/Trade Project/MULTI_Historical trades2.csv</pre>"
      ],
      "text/plain": [
       "Finished parsing file /Users/Quentin/Documents/Trade Project/MULTI_Historical trades2.csv"
      ]
     },
     "metadata": {},
     "output_type": "display_data"
    },
    {
     "data": {
      "text/html": [
       "<pre>Parsing completed. Parsed 39 lines in 0.07209 secs.</pre>"
      ],
      "text/plain": [
       "Parsing completed. Parsed 39 lines in 0.07209 secs."
      ]
     },
     "metadata": {},
     "output_type": "display_data"
    },
    {
     "name": "stdout",
     "output_type": "stream",
     "text": [
      "------------------------------------------------------\n",
      "Inferred types from first 100 line(s) of file as \n",
      "column_type_hints=[str,str,str,float,int,str,float,int,int,int,int,int,float,int,int,str,int,float,int,float,str]\n",
      "If parsing fails due to incorrect types, you can correct\n",
      "the inferred type list above and pass it to read_csv in\n",
      "the column_type_hints argument\n",
      "------------------------------------------------------\n"
     ]
    },
    {
     "data": {
      "text/html": [
       "<pre>Finished parsing file /Users/Quentin/Documents/Trade Project/MULTI_Historical trades2.csv</pre>"
      ],
      "text/plain": [
       "Finished parsing file /Users/Quentin/Documents/Trade Project/MULTI_Historical trades2.csv"
      ]
     },
     "metadata": {},
     "output_type": "display_data"
    },
    {
     "data": {
      "text/html": [
       "<pre>Parsing completed. Parsed 39 lines in 0.015357 secs.</pre>"
      ],
      "text/plain": [
       "Parsing completed. Parsed 39 lines in 0.015357 secs."
      ]
     },
     "metadata": {},
     "output_type": "display_data"
    }
   ],
   "source": [
    "# Load new file with new trades (first one: PLPM - Planet Payment) for prediction\n",
    "trades2 = graphlab.SFrame.read_csv('MULTI_Historical trades2.csv', verbose=True)"
   ]
  },
  {
   "cell_type": "code",
   "execution_count": 44,
   "metadata": {
    "collapsed": false
   },
   "outputs": [
    {
     "data": {
      "text/html": [
       "<div style=\"max-height:1000px;max-width:1500px;overflow:auto;\"><table frame=\"box\" rules=\"cols\">\n",
       "    <tr>\n",
       "        <th style=\"padding-left: 1em; padding-right: 1em; text-align: center\">Ticker</th>\n",
       "        <th style=\"padding-left: 1em; padding-right: 1em; text-align: center\">Name</th>\n",
       "        <th style=\"padding-left: 1em; padding-right: 1em; text-align: center\">Date bought</th>\n",
       "        <th style=\"padding-left: 1em; padding-right: 1em; text-align: center\">Price bought</th>\n",
       "        <th style=\"padding-left: 1em; padding-right: 1em; text-align: center\">Amount Bought</th>\n",
       "        <th style=\"padding-left: 1em; padding-right: 1em; text-align: center\">Date sold</th>\n",
       "        <th style=\"padding-left: 1em; padding-right: 1em; text-align: center\">Price Sold</th>\n",
       "        <th style=\"padding-left: 1em; padding-right: 1em; text-align: center\">Spin-Off</th>\n",
       "        <th style=\"padding-left: 1em; padding-right: 1em; text-align: center\">VIC</th>\n",
       "        <th style=\"padding-left: 1em; padding-right: 1em; text-align: center\">MF</th>\n",
       "    </tr>\n",
       "    <tr>\n",
       "        <td style=\"padding-left: 1em; padding-right: 1em; text-align: center; vertical-align: top\">PLPM</td>\n",
       "        <td style=\"padding-left: 1em; padding-right: 1em; text-align: center; vertical-align: top\">Planet Payment</td>\n",
       "        <td style=\"padding-left: 1em; padding-right: 1em; text-align: center; vertical-align: top\">8/8/17</td>\n",
       "        <td style=\"padding-left: 1em; padding-right: 1em; text-align: center; vertical-align: top\">3.3</td>\n",
       "        <td style=\"padding-left: 1em; padding-right: 1em; text-align: center; vertical-align: top\">30000</td>\n",
       "        <td style=\"padding-left: 1em; padding-right: 1em; text-align: center; vertical-align: top\"></td>\n",
       "        <td style=\"padding-left: 1em; padding-right: 1em; text-align: center; vertical-align: top\">None</td>\n",
       "        <td style=\"padding-left: 1em; padding-right: 1em; text-align: center; vertical-align: top\">0</td>\n",
       "        <td style=\"padding-left: 1em; padding-right: 1em; text-align: center; vertical-align: top\">1</td>\n",
       "        <td style=\"padding-left: 1em; padding-right: 1em; text-align: center; vertical-align: top\">0</td>\n",
       "    </tr>\n",
       "</table>\n",
       "<table frame=\"box\" rules=\"cols\">\n",
       "    <tr>\n",
       "        <th style=\"padding-left: 1em; padding-right: 1em; text-align: center\">Valuation</th>\n",
       "        <th style=\"padding-left: 1em; padding-right: 1em; text-align: center\">Rev growth</th>\n",
       "        <th style=\"padding-left: 1em; padding-right: 1em; text-align: center\">Debt level</th>\n",
       "        <th style=\"padding-left: 1em; padding-right: 1em; text-align: center\">Understandable</th>\n",
       "        <th style=\"padding-left: 1em; padding-right: 1em; text-align: center\">Researchable</th>\n",
       "        <th style=\"padding-left: 1em; padding-right: 1em; text-align: center\">Industry</th>\n",
       "        <th style=\"padding-left: 1em; padding-right: 1em; text-align: center\">Market Cap</th>\n",
       "        <th style=\"padding-left: 1em; padding-right: 1em; text-align: center\">ROE</th>\n",
       "        <th style=\"padding-left: 1em; padding-right: 1em; text-align: center\">Holding duration (months)</th>\n",
       "    </tr>\n",
       "    <tr>\n",
       "        <td style=\"padding-left: 1em; padding-right: 1em; text-align: center; vertical-align: top\">6</td>\n",
       "        <td style=\"padding-left: 1em; padding-right: 1em; text-align: center; vertical-align: top\">0</td>\n",
       "        <td style=\"padding-left: 1em; padding-right: 1em; text-align: center; vertical-align: top\">0.0</td>\n",
       "        <td style=\"padding-left: 1em; padding-right: 1em; text-align: center; vertical-align: top\">6</td>\n",
       "        <td style=\"padding-left: 1em; padding-right: 1em; text-align: center; vertical-align: top\">7</td>\n",
       "        <td style=\"padding-left: 1em; padding-right: 1em; text-align: center; vertical-align: top\">Payments Processing</td>\n",
       "        <td style=\"padding-left: 1em; padding-right: 1em; text-align: center; vertical-align: top\">161</td>\n",
       "        <td style=\"padding-left: 1em; padding-right: 1em; text-align: center; vertical-align: top\">0.81</td>\n",
       "        <td style=\"padding-left: 1em; padding-right: 1em; text-align: center; vertical-align: top\">None</td>\n",
       "    </tr>\n",
       "</table>\n",
       "<table frame=\"box\" rules=\"cols\">\n",
       "    <tr>\n",
       "        <th style=\"padding-left: 1em; padding-right: 1em; text-align: center\">P&amp;L</th>\n",
       "        <th style=\"padding-left: 1em; padding-right: 1em; text-align: center\">X21</th>\n",
       "    </tr>\n",
       "    <tr>\n",
       "        <td style=\"padding-left: 1em; padding-right: 1em; text-align: center; vertical-align: top\">None</td>\n",
       "        <td style=\"padding-left: 1em; padding-right: 1em; text-align: center; vertical-align: top\"></td>\n",
       "    </tr>\n",
       "</table>\n",
       "[? rows x 21 columns]<br/>Note: Only the head of the SFrame is printed. This SFrame is lazily evaluated.<br/>You can use sf.materialize() to force materialization.\n",
       "</div>"
      ],
      "text/plain": [
       "Columns:\n",
       "\tTicker\tstr\n",
       "\tName\tstr\n",
       "\tDate bought\tstr\n",
       "\tPrice bought\tfloat\n",
       "\tAmount Bought\tint\n",
       "\tDate sold\tstr\n",
       "\tPrice Sold\tfloat\n",
       "\tSpin-Off\tint\n",
       "\tVIC\tint\n",
       "\tMF\tint\n",
       "\tValuation\tint\n",
       "\tRev growth\tint\n",
       "\tDebt level\tfloat\n",
       "\tUnderstandable\tint\n",
       "\tResearchable\tint\n",
       "\tIndustry\tstr\n",
       "\tMarket Cap\tint\n",
       "\tROE\tfloat\n",
       "\tHolding duration (months)\tint\n",
       "\tP&L\tfloat\n",
       "\tX21\tstr\n",
       "\n",
       "Rows: Unknown\n",
       "\n",
       "Data:\n",
       "+--------+----------------+-------------+--------------+---------------+-----------+\n",
       "| Ticker |      Name      | Date bought | Price bought | Amount Bought | Date sold |\n",
       "+--------+----------------+-------------+--------------+---------------+-----------+\n",
       "|  PLPM  | Planet Payment |    8/8/17   |     3.3      |     30000     |           |\n",
       "+--------+----------------+-------------+--------------+---------------+-----------+\n",
       "+------------+----------+-----+----+-----------+------------+------------+----------------+\n",
       "| Price Sold | Spin-Off | VIC | MF | Valuation | Rev growth | Debt level | Understandable |\n",
       "+------------+----------+-----+----+-----------+------------+------------+----------------+\n",
       "|    None    |    0     |  1  | 0  |     6     |     0      |    0.0     |       6        |\n",
       "+------------+----------+-----+----+-----------+------------+------------+----------------+\n",
       "+--------------+---------------------+------------+------+---------------------------+\n",
       "| Researchable |       Industry      | Market Cap | ROE  | Holding duration (months) |\n",
       "+--------------+---------------------+------------+------+---------------------------+\n",
       "|      7       | Payments Processing |    161     | 0.81 |            None           |\n",
       "+--------------+---------------------+------------+------+---------------------------+\n",
       "+------+-----+\n",
       "| P&L  | ... |\n",
       "+------+-----+\n",
       "| None | ... |\n",
       "+------+-----+\n",
       "[? rows x 21 columns]\n",
       "Note: Only the head of the SFrame is printed. This SFrame is lazily evaluated.\n",
       "You can use sf.materialize() to force materialization."
      ]
     },
     "execution_count": 44,
     "metadata": {},
     "output_type": "execute_result"
    }
   ],
   "source": [
    "trades2[trades2['Ticker']=='PLPM']"
   ]
  },
  {
   "cell_type": "code",
   "execution_count": 45,
   "metadata": {
    "collapsed": false
   },
   "outputs": [
    {
     "data": {
      "text/plain": [
       "dtype: float\n",
       "Rows: 1\n",
       "[0.3671407243911379]"
      ]
     },
     "execution_count": 45,
     "metadata": {},
     "output_type": "execute_result"
    }
   ],
   "source": [
    "linear_model.predict(trades2[trades2['Ticker']=='PLPM'])"
   ]
  },
  {
   "cell_type": "code",
   "execution_count": null,
   "metadata": {
    "collapsed": true
   },
   "outputs": [],
   "source": []
  },
  {
   "cell_type": "code",
   "execution_count": null,
   "metadata": {
    "collapsed": true
   },
   "outputs": [],
   "source": []
  }
 ],
 "metadata": {
  "kernelspec": {
   "display_name": "Python 2",
   "language": "python",
   "name": "python2"
  },
  "language_info": {
   "codemirror_mode": {
    "name": "ipython",
    "version": 2
   },
   "file_extension": ".py",
   "mimetype": "text/x-python",
   "name": "python",
   "nbconvert_exporter": "python",
   "pygments_lexer": "ipython2",
   "version": "2.7.11"
  }
 },
 "nbformat": 4,
 "nbformat_minor": 2
}
